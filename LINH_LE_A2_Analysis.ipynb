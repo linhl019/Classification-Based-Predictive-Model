{
 "cells": [
  {
   "cell_type": "markdown",
   "metadata": {},
   "source": [
    "***\n",
    "***\n",
    "***\n",
    "\n",
    "\n",
    "<br><strong>Assignment 2 | Classification Modeling</strong><br>\n",
    "<strong>Data Analysis and Code</strong><br>\n",
    "Machine Learning | Cohort 3<br>\n",
    "Linh Le<br>\n",
    "<br>\n",
    "\n",
    "***\n",
    "***\n",
    "***\n",
    "\n",
    "<br>\n",
    "The purpose of this model is to predict which customers will subscribe to Apprentice Chef's new service, <i>Halfway There</i>. <br><br>\n",
    "\n",
    "***"
   ]
  },
  {
   "cell_type": "markdown",
   "metadata": {},
   "source": [
    "<h3>Preparing Libraries, Dataset File, and User-Defined Functions</h3><br>\n",
    "\n",
    "In this section, all the necessary libraries, files, and user-defined functions will be ran so that we have all the necessary tools for exploratory data analysis and model development.\n"
   ]
  },
  {
   "cell_type": "code",
   "execution_count": 1,
   "metadata": {
    "scrolled": true
   },
   "outputs": [
    {
     "name": "stderr",
     "output_type": "stream",
     "text": [
      "//anaconda3/lib/python3.7/site-packages/statsmodels/tools/_testing.py:19: FutureWarning: pandas.util.testing is deprecated. Use the functions in the public API at pandas.testing instead.\n",
      "  import pandas.util.testing as tm\n",
      "//anaconda3/lib/python3.7/site-packages/sklearn/externals/six.py:31: DeprecationWarning: The module is deprecated in version 0.21 and will be removed in version 0.23 since we've dropped support for Python 2.7. Please rely on the official version of six (https://pypi.org/project/six/).\n",
      "  \"(https://pypi.org/project/six/).\", DeprecationWarning)\n"
     ]
    }
   ],
   "source": [
    "# importing necessary libraries\n",
    "import pandas as pd                                     # data science essentials\n",
    "import seaborn as sns                                   # essential graphical output\n",
    "import matplotlib.pyplot as plt                         # enhanced graphical output\n",
    "import statsmodels.formula.api as smf                   # regression modeling\n",
    "from sklearn.model_selection import train_test_split    # train/test split\n",
    "import sklearn.linear_model                             # linear models (scikit-learn)\n",
    "from sklearn.metrics import confusion_matrix            # confusion matrix\n",
    "from sklearn.metrics import roc_auc_score               # auc score\n",
    "from sklearn.neighbors import KNeighborsClassifier      # KNN for classification\n",
    "from sklearn.neighbors import KNeighborsRegressor       # KNN for regression\n",
    "from sklearn.preprocessing import StandardScaler        # standard scaler\n",
    "\n",
    "# CART model packages\n",
    "from sklearn.tree import DecisionTreeRegressor          # Regression trees     \n",
    "from sklearn.tree import DecisionTreeClassifier         # Classification trees\n",
    "from sklearn.tree import export_graphviz                # exports graphics\n",
    "from sklearn.externals.six import StringIO              # save object in memory\n",
    "from IPython.display import Image                       # displays an image on the frontend\n",
    "import pydotplus\n",
    "\n",
    "# Hyper parameter tuning and ensemble modeling\n",
    "from sklearn.model_selection import GridSearchCV        # hyperparameter tuning\n",
    "from sklearn.metrics import make_scorer                 # customizable scorer\n",
    "from sklearn.ensemble import RandomForestClassifier     # random forest\n",
    "from sklearn.ensemble import GradientBoostingClassifier # gbm\n",
    "from sklearn.naive_bayes import GaussianNB              # Gaussian Naive Bayes\n",
    "\n",
    "\n",
    "\n",
    "# setting pandas print options\n",
    "pd.set_option('display.max_rows', 500)\n",
    "pd.set_option('display.max_columns', 500)\n",
    "pd.set_option('display.width', 1000)\n",
    "\n",
    "\n",
    "# specifying file name\n",
    "file = \"Apprentice_Chef_Dataset.xlsx\"\n",
    "\n",
    "\n",
    "# reading the file into Python\n",
    "original_df = pd.read_excel(file)"
   ]
  },
  {
   "cell_type": "markdown",
   "metadata": {},
   "source": [
    "<h4>User-Defined Functions</h4><br>\n",
    "\n",
    "Here, all the user-defined functions that will be used in this Notebook is called.\n"
   ]
  },
  {
   "cell_type": "code",
   "execution_count": 2,
   "metadata": {},
   "outputs": [],
   "source": [
    "########################################\n",
    "# plot_feature_importances\n",
    "########################################\n",
    "def plot_feature_importances(model, train, export = False):\n",
    "    \"\"\"\n",
    "    Plots the importance of features from a CART model.\n",
    "    \n",
    "    PARAMETERS\n",
    "    ----------\n",
    "    model  : CART model\n",
    "    train  : explanatory variable training data\n",
    "    export : whether or not to export as a .png image, default False\n",
    "    \"\"\"\n",
    "    \n",
    "    # declaring the number\n",
    "    n_features = X_train.shape[1]\n",
    "    \n",
    "    # setting plot window\n",
    "    fig, ax = plt.subplots(figsize=(12,9))\n",
    "    \n",
    "    plt.barh(range(n_features), model.feature_importances_, align='center')\n",
    "    plt.yticks(pd.np.arange(n_features), train.columns)\n",
    "    plt.xlabel(\"Feature importance\")\n",
    "    plt.ylabel(\"Feature\")\n",
    "    \n",
    "    if export == True:\n",
    "        plt.savefig('Tree_Leaf_50_Feature_Importance.png')\n",
    "        \n",
    "\n",
    "        \n",
    "########################################\n",
    "# optimal_neighbors function\n",
    "########################################\n",
    "def optimal_neighbors(X_data,\n",
    "                      y_data,\n",
    "                      standardize = True,\n",
    "                      pct_test=0.25,\n",
    "                      seed=802,\n",
    "                      response_type='reg',\n",
    "                      max_neighbors=20,\n",
    "                      show_viz=True):\n",
    "    \"\"\"\n",
    "Exhaustively compute training and testing results for KNN across\n",
    "[1, max_neighbors]. Outputs the maximum test score and (by default) a\n",
    "visualization of the results.\n",
    "PARAMETERS\n",
    "----------\n",
    "X_data        : explanatory variable data\n",
    "y_data        : response variable\n",
    "standardize   : whether or not to standardize the X data, default True\n",
    "pct_test      : test size for training and validation from (0,1), default 0.25\n",
    "seed          : random seed to be used in algorithm, default 802\n",
    "response_type : type of neighbors algorithm to use, default 'reg'\n",
    "    Use 'reg' for regression (KNeighborsRegressor)\n",
    "    Use 'class' for classification (KNeighborsClassifier)\n",
    "max_neighbors : maximum number of neighbors in exhaustive search, default 20\n",
    "show_viz      : display or surpress k-neigbors visualization, default True\n",
    "\"\"\"    \n",
    "    \n",
    "    \n",
    "    if standardize == True:\n",
    "        # optionally standardizing X_data\n",
    "        scaler             = StandardScaler()\n",
    "        scaler.fit(X_data)\n",
    "        X_scaled           = scaler.transform(X_data)\n",
    "        X_scaled_df        = pd.DataFrame(X_scaled)\n",
    "        X_data             = X_scaled_df\n",
    "\n",
    "\n",
    "\n",
    "    # train-test split\n",
    "    X_train, X_test, y_train, y_test = train_test_split(X_data,\n",
    "                                                        y_data,\n",
    "                                                        test_size = pct_test,\n",
    "                                                        random_state = seed)\n",
    "\n",
    "\n",
    "    # creating lists for training set accuracy and test set accuracy\n",
    "    training_accuracy = []\n",
    "    test_accuracy = []\n",
    "    \n",
    "    \n",
    "    # setting neighbor range\n",
    "    neighbors_settings = range(1, max_neighbors + 1)\n",
    "\n",
    "\n",
    "    for n_neighbors in neighbors_settings:\n",
    "        # building the model based on response variable type\n",
    "        if response_type == 'reg':\n",
    "            clf = KNeighborsRegressor(n_neighbors = n_neighbors)\n",
    "            clf.fit(X_train, y_train)\n",
    "            \n",
    "        elif response_type == 'class':\n",
    "            clf = KNeighborsClassifier(n_neighbors = n_neighbors)\n",
    "            clf.fit(X_train, y_train)            \n",
    "            \n",
    "        else:\n",
    "            print(\"Error: response_type must be 'reg' or 'class'\")\n",
    "        \n",
    "        \n",
    "        # recording the training set accuracy\n",
    "        training_accuracy.append(clf.score(X_train, y_train))\n",
    "    \n",
    "        # recording the generalization accuracy\n",
    "        test_accuracy.append(clf.score(X_test, y_test))\n",
    "\n",
    "\n",
    "    # optionally displaying visualization\n",
    "    if show_viz == True:\n",
    "        # plotting the visualization\n",
    "        fig, ax = plt.subplots(figsize=(12,8))\n",
    "        plt.plot(neighbors_settings, training_accuracy, label = \"training accuracy\")\n",
    "        plt.plot(neighbors_settings, test_accuracy, label = \"test accuracy\")\n",
    "        plt.ylabel(\"Accuracy\")\n",
    "        plt.xlabel(\"n_neighbors\")\n",
    "        plt.legend()\n",
    "        plt.show()\n",
    "    \n",
    "    \n",
    "    # returning optimal number of neighbors\n",
    "    print(f\"The optimal number of neighbors is: {test_accuracy.index(max(test_accuracy))+1}\")\n",
    "    return test_accuracy.index(max(test_accuracy))+1\n",
    "\n",
    "\n",
    "########################################\n",
    "# visual_cm\n",
    "########################################\n",
    "def visual_cm(true_y, pred_y, labels = None):\n",
    "    \"\"\"\n",
    "Creates a visualization of a confusion matrix.\n",
    "\n",
    "PARAMETERS\n",
    "----------\n",
    "true_y : true values for the response variable\n",
    "pred_y : predicted values for the response variable\n",
    "labels : , default None\n",
    "    \"\"\"\n",
    "    # visualizing the confusion matrix\n",
    "\n",
    "    # setting labels\n",
    "    lbls = labels\n",
    "    \n",
    "\n",
    "    # declaring a confusion matrix object\n",
    "    cm = confusion_matrix(y_true = true_y,\n",
    "                          y_pred = pred_y)\n",
    "\n",
    "\n",
    "    # heatmap\n",
    "    sns.heatmap(cm,\n",
    "                annot       = True,\n",
    "                xticklabels = lbls,\n",
    "                yticklabels = lbls,\n",
    "                cmap        = 'Blues',\n",
    "                fmt         = 'g')\n",
    "    \n",
    "    \n",
    "    plt.xlabel('Predicted')\n",
    "    plt.ylabel('Actual')\n",
    "    plt.title('Confusion Matrix of the Classifier')\n",
    "    plt.show()"
   ]
  },
  {
   "cell_type": "markdown",
   "metadata": {},
   "source": [
    "<h3>Flagging Missing Values</h3><br>\n",
    "\n",
    "Since the same dataset was used, much of the initial data exploration was already done. However, missing values still need to be filled in; again, there was only one value missing, in the column \"FAMILY_NAME\". As this cannot be accurately imputed, it was imputed with \"Unknown\". <br>\n",
    "\n",
    "Subsequently, they will be checked to make sure there are no missing values in the dataset.\n",
    "<br>"
   ]
  },
  {
   "cell_type": "code",
   "execution_count": 3,
   "metadata": {},
   "outputs": [],
   "source": [
    "# Looping over columns with missing values\n",
    "for col in original_df:\n",
    "\n",
    "    # creating columns with 1s if missing and 0 if not\n",
    "    if original_df[col].isnull().astype(int).sum() > 0:\n",
    "        original_df['m_'+col] = original_df[col].isnull().astype(int)\n"
   ]
  },
  {
   "cell_type": "code",
   "execution_count": 4,
   "metadata": {},
   "outputs": [],
   "source": [
    "# Creating an imputation value (through soft-coding)\n",
    "fill = \"Unknown\"\n",
    "\n",
    "# Imputing 'FAMILY_NAME'\n",
    "original_df['FAMILY_NAME'] = original_df['FAMILY_NAME'].fillna(fill)\n"
   ]
  },
  {
   "cell_type": "code",
   "execution_count": 5,
   "metadata": {},
   "outputs": [
    {
     "data": {
      "text/plain": [
       "0"
      ]
     },
     "execution_count": 5,
     "metadata": {},
     "output_type": "execute_result"
    }
   ],
   "source": [
    "# Making sure all missing values have been taken care of\n",
    "original_df.isnull().any().sum()"
   ]
  },
  {
   "cell_type": "markdown",
   "metadata": {},
   "source": [
    "Since a new response variable is predicted in this model, before any feature engineering, I ran a logistic regression base model to get an initial look at the correlation between the new response variable, CROSS_SELL_SUCCESS, and all the other variables in the dataset. "
   ]
  },
  {
   "cell_type": "code",
   "execution_count": 6,
   "metadata": {
    "scrolled": true
   },
   "outputs": [
    {
     "name": "stdout",
     "output_type": "stream",
     "text": [
      "Optimization terminated successfully.\n",
      "         Current function value: 0.470803\n",
      "         Iterations 7\n"
     ]
    },
    {
     "data": {
      "text/html": [
       "<table class=\"simpletable\">\n",
       "<caption>Logit Regression Results</caption>\n",
       "<tr>\n",
       "  <th>Dep. Variable:</th>   <td>CROSS_SELL_SUCCESS</td> <th>  No. Observations:  </th>   <td>  1946</td>  \n",
       "</tr>\n",
       "<tr>\n",
       "  <th>Model:</th>                  <td>Logit</td>       <th>  Df Residuals:      </th>   <td>  1921</td>  \n",
       "</tr>\n",
       "<tr>\n",
       "  <th>Method:</th>                  <td>MLE</td>        <th>  Df Model:          </th>   <td>    24</td>  \n",
       "</tr>\n",
       "<tr>\n",
       "  <th>Date:</th>             <td>Sun, 15 Mar 2020</td>  <th>  Pseudo R-squ.:     </th>   <td>0.2500</td>  \n",
       "</tr>\n",
       "<tr>\n",
       "  <th>Time:</th>                 <td>19:05:26</td>      <th>  Log-Likelihood:    </th>  <td> -916.18</td> \n",
       "</tr>\n",
       "<tr>\n",
       "  <th>converged:</th>              <td>True</td>        <th>  LL-Null:           </th>  <td> -1221.6</td> \n",
       "</tr>\n",
       "<tr>\n",
       "  <th>Covariance Type:</th>      <td>nonrobust</td>     <th>  LLR p-value:       </th> <td>1.280e-113</td>\n",
       "</tr>\n",
       "</table>\n",
       "<table class=\"simpletable\">\n",
       "<tr>\n",
       "                <td></td>                  <th>coef</th>     <th>std err</th>      <th>z</th>      <th>P>|z|</th>  <th>[0.025</th>    <th>0.975]</th>  \n",
       "</tr>\n",
       "<tr>\n",
       "  <th>Intercept</th>                    <td>   -2.8342</td> <td>    1.258</td> <td>   -2.254</td> <td> 0.024</td> <td>   -5.299</td> <td>   -0.369</td>\n",
       "</tr>\n",
       "<tr>\n",
       "  <th>REVENUE</th>                      <td>   -0.0001</td> <td> 8.49e-05</td> <td>   -1.498</td> <td> 0.134</td> <td>   -0.000</td> <td> 3.92e-05</td>\n",
       "</tr>\n",
       "<tr>\n",
       "  <th>TOTAL_MEALS_ORDERED</th>          <td>    0.0010</td> <td>    0.001</td> <td>    0.749</td> <td> 0.454</td> <td>   -0.002</td> <td>    0.004</td>\n",
       "</tr>\n",
       "<tr>\n",
       "  <th>UNIQUE_MEALS_PURCH</th>           <td>   -0.0090</td> <td>    0.024</td> <td>   -0.378</td> <td> 0.705</td> <td>   -0.056</td> <td>    0.038</td>\n",
       "</tr>\n",
       "<tr>\n",
       "  <th>CONTACTS_W_CUSTOMER_SERVICE</th>  <td>    0.0096</td> <td>    0.026</td> <td>    0.370</td> <td> 0.711</td> <td>   -0.041</td> <td>    0.060</td>\n",
       "</tr>\n",
       "<tr>\n",
       "  <th>PRODUCT_CATEGORIES_VIEWED</th>    <td>    0.0119</td> <td>    0.019</td> <td>    0.628</td> <td> 0.530</td> <td>   -0.025</td> <td>    0.049</td>\n",
       "</tr>\n",
       "<tr>\n",
       "  <th>AVG_TIME_PER_SITE_VISIT</th>      <td>    0.0010</td> <td>    0.001</td> <td>    1.099</td> <td> 0.272</td> <td>   -0.001</td> <td>    0.003</td>\n",
       "</tr>\n",
       "<tr>\n",
       "  <th>MOBILE_NUMBER</th>                <td>    0.6968</td> <td>    0.170</td> <td>    4.090</td> <td> 0.000</td> <td>    0.363</td> <td>    1.031</td>\n",
       "</tr>\n",
       "<tr>\n",
       "  <th>CANCELLATIONS_BEFORE_NOON</th>    <td>    0.2514</td> <td>    0.042</td> <td>    5.964</td> <td> 0.000</td> <td>    0.169</td> <td>    0.334</td>\n",
       "</tr>\n",
       "<tr>\n",
       "  <th>CANCELLATIONS_AFTER_NOON</th>     <td>   -0.2554</td> <td>    0.131</td> <td>   -1.957</td> <td> 0.050</td> <td>   -0.511</td> <td>    0.000</td>\n",
       "</tr>\n",
       "<tr>\n",
       "  <th>TASTES_AND_PREFERENCES</th>       <td>    0.4595</td> <td>    0.125</td> <td>    3.670</td> <td> 0.000</td> <td>    0.214</td> <td>    0.705</td>\n",
       "</tr>\n",
       "<tr>\n",
       "  <th>PC_LOGINS</th>                    <td>    0.2065</td> <td>    0.099</td> <td>    2.089</td> <td> 0.037</td> <td>    0.013</td> <td>    0.400</td>\n",
       "</tr>\n",
       "<tr>\n",
       "  <th>MOBILE_LOGINS</th>                <td>   -0.2745</td> <td>    0.109</td> <td>   -2.527</td> <td> 0.011</td> <td>   -0.487</td> <td>   -0.062</td>\n",
       "</tr>\n",
       "<tr>\n",
       "  <th>WEEKLY_PLAN</th>                  <td>    0.0021</td> <td>    0.004</td> <td>    0.502</td> <td> 0.615</td> <td>   -0.006</td> <td>    0.010</td>\n",
       "</tr>\n",
       "<tr>\n",
       "  <th>EARLY_DELIVERIES</th>             <td>    0.0345</td> <td>    0.025</td> <td>    1.365</td> <td> 0.172</td> <td>   -0.015</td> <td>    0.084</td>\n",
       "</tr>\n",
       "<tr>\n",
       "  <th>LATE_DELIVERIES</th>              <td>    0.0292</td> <td>    0.021</td> <td>    1.399</td> <td> 0.162</td> <td>   -0.012</td> <td>    0.070</td>\n",
       "</tr>\n",
       "<tr>\n",
       "  <th>PACKAGE_LOCKER</th>               <td>    0.0310</td> <td>    0.137</td> <td>    0.226</td> <td> 0.821</td> <td>   -0.237</td> <td>    0.299</td>\n",
       "</tr>\n",
       "<tr>\n",
       "  <th>REFRIGERATED_LOCKER</th>          <td>    0.4157</td> <td>    0.221</td> <td>    1.880</td> <td> 0.060</td> <td>   -0.018</td> <td>    0.849</td>\n",
       "</tr>\n",
       "<tr>\n",
       "  <th>FOLLOWED_RECOMMENDATIONS_PCT</th> <td>    0.0561</td> <td>    0.003</td> <td>   17.178</td> <td> 0.000</td> <td>    0.050</td> <td>    0.063</td>\n",
       "</tr>\n",
       "<tr>\n",
       "  <th>AVG_PREP_VID_TIME</th>            <td>    0.0021</td> <td>    0.002</td> <td>    0.861</td> <td> 0.389</td> <td>   -0.003</td> <td>    0.007</td>\n",
       "</tr>\n",
       "<tr>\n",
       "  <th>LARGEST_ORDER_SIZE</th>           <td>   -0.0003</td> <td>    0.063</td> <td>   -0.004</td> <td> 0.997</td> <td>   -0.125</td> <td>    0.124</td>\n",
       "</tr>\n",
       "<tr>\n",
       "  <th>MASTER_CLASSES_ATTENDED</th>      <td>    0.0123</td> <td>    0.106</td> <td>    0.116</td> <td> 0.908</td> <td>   -0.195</td> <td>    0.220</td>\n",
       "</tr>\n",
       "<tr>\n",
       "  <th>MEDIAN_MEAL_RATING</th>           <td>    0.0172</td> <td>    0.157</td> <td>    0.110</td> <td> 0.913</td> <td>   -0.290</td> <td>    0.325</td>\n",
       "</tr>\n",
       "<tr>\n",
       "  <th>AVG_CLICKS_PER_VISIT</th>         <td>   -0.0366</td> <td>    0.048</td> <td>   -0.765</td> <td> 0.444</td> <td>   -0.130</td> <td>    0.057</td>\n",
       "</tr>\n",
       "<tr>\n",
       "  <th>TOTAL_PHOTOS_VIEWED</th>          <td>   -0.0002</td> <td>    0.000</td> <td>   -0.573</td> <td> 0.567</td> <td>   -0.001</td> <td>    0.001</td>\n",
       "</tr>\n",
       "</table>"
      ],
      "text/plain": [
       "<class 'statsmodels.iolib.summary.Summary'>\n",
       "\"\"\"\n",
       "                           Logit Regression Results                           \n",
       "==============================================================================\n",
       "Dep. Variable:     CROSS_SELL_SUCCESS   No. Observations:                 1946\n",
       "Model:                          Logit   Df Residuals:                     1921\n",
       "Method:                           MLE   Df Model:                           24\n",
       "Date:                Sun, 15 Mar 2020   Pseudo R-squ.:                  0.2500\n",
       "Time:                        19:05:26   Log-Likelihood:                -916.18\n",
       "converged:                       True   LL-Null:                       -1221.6\n",
       "Covariance Type:            nonrobust   LLR p-value:                1.280e-113\n",
       "================================================================================================\n",
       "                                   coef    std err          z      P>|z|      [0.025      0.975]\n",
       "------------------------------------------------------------------------------------------------\n",
       "Intercept                       -2.8342      1.258     -2.254      0.024      -5.299      -0.369\n",
       "REVENUE                         -0.0001   8.49e-05     -1.498      0.134      -0.000    3.92e-05\n",
       "TOTAL_MEALS_ORDERED              0.0010      0.001      0.749      0.454      -0.002       0.004\n",
       "UNIQUE_MEALS_PURCH              -0.0090      0.024     -0.378      0.705      -0.056       0.038\n",
       "CONTACTS_W_CUSTOMER_SERVICE      0.0096      0.026      0.370      0.711      -0.041       0.060\n",
       "PRODUCT_CATEGORIES_VIEWED        0.0119      0.019      0.628      0.530      -0.025       0.049\n",
       "AVG_TIME_PER_SITE_VISIT          0.0010      0.001      1.099      0.272      -0.001       0.003\n",
       "MOBILE_NUMBER                    0.6968      0.170      4.090      0.000       0.363       1.031\n",
       "CANCELLATIONS_BEFORE_NOON        0.2514      0.042      5.964      0.000       0.169       0.334\n",
       "CANCELLATIONS_AFTER_NOON        -0.2554      0.131     -1.957      0.050      -0.511       0.000\n",
       "TASTES_AND_PREFERENCES           0.4595      0.125      3.670      0.000       0.214       0.705\n",
       "PC_LOGINS                        0.2065      0.099      2.089      0.037       0.013       0.400\n",
       "MOBILE_LOGINS                   -0.2745      0.109     -2.527      0.011      -0.487      -0.062\n",
       "WEEKLY_PLAN                      0.0021      0.004      0.502      0.615      -0.006       0.010\n",
       "EARLY_DELIVERIES                 0.0345      0.025      1.365      0.172      -0.015       0.084\n",
       "LATE_DELIVERIES                  0.0292      0.021      1.399      0.162      -0.012       0.070\n",
       "PACKAGE_LOCKER                   0.0310      0.137      0.226      0.821      -0.237       0.299\n",
       "REFRIGERATED_LOCKER              0.4157      0.221      1.880      0.060      -0.018       0.849\n",
       "FOLLOWED_RECOMMENDATIONS_PCT     0.0561      0.003     17.178      0.000       0.050       0.063\n",
       "AVG_PREP_VID_TIME                0.0021      0.002      0.861      0.389      -0.003       0.007\n",
       "LARGEST_ORDER_SIZE              -0.0003      0.063     -0.004      0.997      -0.125       0.124\n",
       "MASTER_CLASSES_ATTENDED          0.0123      0.106      0.116      0.908      -0.195       0.220\n",
       "MEDIAN_MEAL_RATING               0.0172      0.157      0.110      0.913      -0.290       0.325\n",
       "AVG_CLICKS_PER_VISIT            -0.0366      0.048     -0.765      0.444      -0.130       0.057\n",
       "TOTAL_PHOTOS_VIEWED             -0.0002      0.000     -0.573      0.567      -0.001       0.001\n",
       "================================================================================================\n",
       "\"\"\""
      ]
     },
     "execution_count": 6,
     "metadata": {},
     "output_type": "execute_result"
    }
   ],
   "source": [
    "# Base model before any feature engineering\n",
    "\n",
    "# instantiating a logistic regression model object\n",
    "logistic_base = smf.logit(formula   = \"\"\"CROSS_SELL_SUCCESS ~\n",
    "                                          REVENUE +\n",
    "                                          TOTAL_MEALS_ORDERED +\n",
    "                                          UNIQUE_MEALS_PURCH +\n",
    "                                          CONTACTS_W_CUSTOMER_SERVICE +\n",
    "                                          PRODUCT_CATEGORIES_VIEWED +\n",
    "                                          AVG_TIME_PER_SITE_VISIT +\n",
    "                                          MOBILE_NUMBER +\n",
    "                                          CANCELLATIONS_BEFORE_NOON +\n",
    "                                          CANCELLATIONS_AFTER_NOON +\n",
    "                                          TASTES_AND_PREFERENCES +\n",
    "                                          PC_LOGINS +\n",
    "                                          MOBILE_LOGINS +\n",
    "                                          WEEKLY_PLAN +\n",
    "                                          EARLY_DELIVERIES +\n",
    "                                          LATE_DELIVERIES +\n",
    "                                          PACKAGE_LOCKER +\n",
    "                                          REFRIGERATED_LOCKER +\n",
    "                                          FOLLOWED_RECOMMENDATIONS_PCT +\n",
    "                                          AVG_PREP_VID_TIME +\n",
    "                                          LARGEST_ORDER_SIZE +\n",
    "                                          MASTER_CLASSES_ATTENDED +\n",
    "                                          MEDIAN_MEAL_RATING +\n",
    "                                          AVG_CLICKS_PER_VISIT +\n",
    "                                          TOTAL_PHOTOS_VIEWED\"\"\",\n",
    "                                          data = original_df)\n",
    "\n",
    "# FITTING the model object\n",
    "results_logistic_base = logistic_base.fit()\n",
    "\n",
    "\n",
    "# checking the results SUMMARY\n",
    "results_logistic_base.summary()\n",
    "                          \n",
    "                    "
   ]
  },
  {
   "cell_type": "markdown",
   "metadata": {},
   "source": [
    "<h3>Outlier Analysis</h3><br>\n",
    "\n",
    "To maximize model accuracy, outliers need to be identified and defined to classify whether or not a data point deviates from the overall pattern. <br>\n",
    "This outlier analysis will comprise three steps: <br>\n",
    "1. Firstly a histogram will be created for every variable in the dataset.\n",
    "2. Outlier thresholds (both lower and upper) will be identified and flagged based on these histograms.\n",
    "3. From these thresholds, features (columns) for outliers will be created to be included in the predictive model (if significant)."
   ]
  },
  {
   "cell_type": "code",
   "execution_count": 7,
   "metadata": {},
   "outputs": [],
   "source": [
    "# Creating a comprehensive list of variables\n",
    "\n",
    "all_variables =['REVENUE',\n",
    "                'CROSS_SELL_SUCCESS', \n",
    "                'TOTAL_MEALS_ORDERED', \n",
    "                'UNIQUE_MEALS_PURCH',\n",
    "                'CONTACTS_W_CUSTOMER_SERVICE', \n",
    "                'PRODUCT_CATEGORIES_VIEWED',\n",
    "                'AVG_TIME_PER_SITE_VISIT', \n",
    "                'MOBILE_NUMBER', \n",
    "                'CANCELLATIONS_BEFORE_NOON',\n",
    "                'CANCELLATIONS_AFTER_NOON', \n",
    "                'TASTES_AND_PREFERENCES', \n",
    "                'MOBILE_LOGINS',\n",
    "                'PC_LOGINS', \n",
    "                'WEEKLY_PLAN', \n",
    "                'EARLY_DELIVERIES', \n",
    "                'LATE_DELIVERIES',\n",
    "                'PACKAGE_LOCKER', \n",
    "                'REFRIGERATED_LOCKER', \n",
    "                'FOLLOWED_RECOMMENDATIONS_PCT',\n",
    "                'AVG_PREP_VID_TIME', \n",
    "                'LARGEST_ORDER_SIZE', \n",
    "                'MASTER_CLASSES_ATTENDED',\n",
    "                'MEDIAN_MEAL_RATING', \n",
    "                'AVG_CLICKS_PER_VISIT', \n",
    "                'TOTAL_PHOTOS_VIEWED']\n",
    "\n",
    "\n",
    "# Creating a list of explanatory variables (x variables)\n",
    "\n",
    "x_variables =['REVENUE', \n",
    "              'TOTAL_MEALS_ORDERED', \n",
    "              'UNIQUE_MEALS_PURCH',\n",
    "              'CONTACTS_W_CUSTOMER_SERVICE', \n",
    "              'PRODUCT_CATEGORIES_VIEWED',\n",
    "              'AVG_TIME_PER_SITE_VISIT', \n",
    "              'MOBILE_NUMBER', \n",
    "              'CANCELLATIONS_BEFORE_NOON',\n",
    "              'CANCELLATIONS_AFTER_NOON', \n",
    "              'TASTES_AND_PREFERENCES', \n",
    "              'MOBILE_LOGINS',\n",
    "              'PC_LOGINS', \n",
    "              'WEEKLY_PLAN', \n",
    "              'EARLY_DELIVERIES', \n",
    "              'LATE_DELIVERIES',\n",
    "              'PACKAGE_LOCKER', \n",
    "              'REFRIGERATED_LOCKER', \n",
    "              'FOLLOWED_RECOMMENDATIONS_PCT',\n",
    "              'AVG_PREP_VID_TIME', \n",
    "              'LARGEST_ORDER_SIZE', \n",
    "              'MASTER_CLASSES_ATTENDED',\n",
    "              'MEDIAN_MEAL_RATING', \n",
    "              'AVG_CLICKS_PER_VISIT', \n",
    "              'TOTAL_PHOTOS_VIEWED']"
   ]
  },
  {
   "cell_type": "code",
   "execution_count": 8,
   "metadata": {},
   "outputs": [],
   "source": [
    "########################\n",
    "# Visual EDA (Histograms)\n",
    "########################\n",
    "\n",
    "# Loop to create a histogram for every variable in the original_df dataset\n",
    "#for i in all_variables:\n",
    "    #fig, ax = plt.subplots(figsize = (10, 8))\n",
    "    #plt.subplot(2, 2, 1)\n",
    "    #sns.distplot(original_df[i],\n",
    "                 #rug = True,\n",
    "                 #color = 'blue')\n",
    "    #plt.xlabel(i)\n",
    "    "
   ]
  },
  {
   "cell_type": "code",
   "execution_count": 52,
   "metadata": {},
   "outputs": [
    {
     "name": "stderr",
     "output_type": "stream",
     "text": [
      "//anaconda3/lib/python3.7/site-packages/ipykernel_launcher.py:3: RuntimeWarning: More than 20 figures have been opened. Figures created through the pyplot interface (`matplotlib.pyplot.figure`) are retained until explicitly closed and may consume too much memory. (To control this warning, see the rcParam `figure.max_open_warning`).\n",
      "  This is separate from the ipykernel package so we can avoid doing imports until\n"
     ]
    },
    {
     "data": {
      "image/png": "[encoded data removed]",
      "text/plain": [
       "<Figure size 720x576 with 1 Axes>"
      ]
     },
     "metadata": {
      "needs_background": "light"
     },
     "output_type": "display_data"
    },
    {
     "data": {
      "image/png": "[encoded data removed]",
      "text/plain": [
       "<Figure size 720x576 with 1 Axes>"
      ]
     },
     "metadata": {
      "needs_background": "light"
     },
     "output_type": "display_data"
    },
    {
     "data": {
      "image/png": "[encoded data removed]",
      "text/plain": [
       "<Figure size 720x576 with 1 Axes>"
      ]
     },
     "metadata": {
      "needs_background": "light"
     },
     "output_type": "display_data"
    },
    {
     "data": {
      "image/png": "[encoded data removed]",
      "text/plain": [
       "<Figure size 720x576 with 1 Axes>"
      ]
     },
     "metadata": {
      "needs_background": "light"
     },
     "output_type": "display_data"
    },
    {
     "data": {
      "image/png": "[encoded data removed]",
      "text/plain": [
       "<Figure size 720x576 with 1 Axes>"
      ]
     },
     "metadata": {
      "needs_background": "light"
     },
     "output_type": "display_data"
    },
    {
     "data": {
      "image/png": "[encoded data removed]",
      "text/plain": [
       "<Figure size 720x576 with 1 Axes>"
      ]
     },
     "metadata": {
      "needs_background": "light"
     },
     "output_type": "display_data"
    },
    {
     "data": {
      "image/png": "[encoded data removed]",
      "text/plain": [
       "<Figure size 720x576 with 1 Axes>"
      ]
     },
     "metadata": {
      "needs_background": "light"
     },
     "output_type": "display_data"
    },
    {
     "data": {
      "image/png": "[encoded data removed]",
      "text/plain": [
       "<Figure size 720x576 with 1 Axes>"
      ]
     },
     "metadata": {
      "needs_background": "light"
     },
     "output_type": "display_data"
    },
    {
     "data": {
      "image/png": "[encoded data removed]",
      "text/plain": [
       "<Figure size 720x576 with 1 Axes>"
      ]
     },
     "metadata": {
      "needs_background": "light"
     },
     "output_type": "display_data"
    },
    {
     "data": {
      "image/png": "[encoded data removed]",
      "text/plain": [
       "<Figure size 720x576 with 1 Axes>"
      ]
     },
     "metadata": {
      "needs_background": "light"
     },
     "output_type": "display_data"
    },
    {
     "data": {
      "image/png": "[encoded data removed]",
      "text/plain": [
       "<Figure size 720x576 with 1 Axes>"
      ]
     },
     "metadata": {
      "needs_background": "light"
     },
     "output_type": "display_data"
    },
    {
     "data": {
      "image/png": "[encoded data removed]",
      "text/plain": [
       "<Figure size 720x576 with 1 Axes>"
      ]
     },
     "metadata": {
      "needs_background": "light"
     },
     "output_type": "display_data"
    },
    {
     "data": {
      "image/png": "[encoded data removed]",
      "text/plain": [
       "<Figure size 720x576 with 1 Axes>"
      ]
     },
     "metadata": {
      "needs_background": "light"
     },
     "output_type": "display_data"
    },
    {
     "data": {
      "image/png": "[encoded data removed]",
      "text/plain": [
       "<Figure size 720x576 with 1 Axes>"
      ]
     },
     "metadata": {
      "needs_background": "light"
     },
     "output_type": "display_data"
    },
    {
     "data": {
      "image/png": "[encoded data removed]",
      "text/plain": [
       "<Figure size 720x576 with 1 Axes>"
      ]
     },
     "metadata": {
      "needs_background": "light"
     },
     "output_type": "display_data"
    },
    {
     "data": {
      "image/png": "[encoded data removed]",
      "text/plain": [
       "<Figure size 720x576 with 1 Axes>"
      ]
     },
     "metadata": {
      "needs_background": "light"
     },
     "output_type": "display_data"
    },
    {
     "data": {
      "image/png": "[encoded data removed]",
      "text/plain": [
       "<Figure size 720x576 with 1 Axes>"
      ]
     },
     "metadata": {
      "needs_background": "light"
     },
     "output_type": "display_data"
    },
    {
     "data": {
      "image/png": "[encoded data removed]",
      "text/plain": [
       "<Figure size 720x576 with 1 Axes>"
      ]
     },
     "metadata": {
      "needs_background": "light"
     },
     "output_type": "display_data"
    },
    {
     "data": {
      "image/png": "[encoded data removed]",
      "text/plain": [
       "<Figure size 720x576 with 1 Axes>"
      ]
     },
     "metadata": {
      "needs_background": "light"
     },
     "output_type": "display_data"
    },
    {
     "data": {
      "image/png": "[encoded data removed]",
      "text/plain": [
       "<Figure size 720x576 with 1 Axes>"
      ]
     },
     "metadata": {
      "needs_background": "light"
     },
     "output_type": "display_data"
    },
    {
     "data": {
      "image/png": "[encoded data removed]",
      "text/plain": [
       "<Figure size 720x576 with 1 Axes>"
      ]
     },
     "metadata": {
      "needs_background": "light"
     },
     "output_type": "display_data"
    },
    {
     "data": {
      "image/png": "[encoded data removed]",
      "text/plain": [
       "<Figure size 720x576 with 1 Axes>"
      ]
     },
     "metadata": {
      "needs_background": "light"
     },
     "output_type": "display_data"
    },
    {
     "data": {
      "image/png": "[encoded data removed]",
      "text/plain": [
       "<Figure size 720x576 with 1 Axes>"
      ]
     },
     "metadata": {
      "needs_background": "light"
     },
     "output_type": "display_data"
    },
    {
     "data": {
      "image/png": "[encoded data removed]",
      "text/plain": [
       "<Figure size 720x576 with 1 Axes>"
      ]
     },
     "metadata": {
      "needs_background": "light"
     },
     "output_type": "display_data"
    },
    {
     "data": {
      "image/png": "[encoded data removed]",
      "text/plain": [
       "<Figure size 720x576 with 1 Axes>"
      ]
     },
     "metadata": {
      "needs_background": "light"
     },
     "output_type": "display_data"
    }
   ],
   "source": [
    "# Loop to create a histogram for every variable in the original_df dataset\n",
    "for i in all_variables:\n",
    "    fig, ax = plt.subplots(figsize = (10, 8))\n",
    "    plt.subplot(2, 2, 1)\n",
    "    sns.distplot(original_df[i],\n",
    "                 rug = True,\n",
    "                 color = 'blue')\n",
    "    plt.xlabel(i)\n",
    "    "
   ]
  },
  {
   "cell_type": "markdown",
   "metadata": {},
   "source": [
    "The same outlier thresholds were used from the previous assignment. However, after running the initial Pearson correlation matrix as well as the Feature Importance plot (both found later on in the code), FOLLOWED_RECOMMENDATIONS_PCT was found to be most highly correlated with CROSS_SELL_SUCCESS and the most important feature. Therefore, three outlier thresholds were then set for FOLLOWED_RECOMMENDATIONS_PCT based on its histogram. To make sure all the outlier thresholds were in the same place, these additional thresholds were later added to this cell."
   ]
  },
  {
   "cell_type": "code",
   "execution_count": 9,
   "metadata": {},
   "outputs": [],
   "source": [
    "# Setting outlier thresholds based on histograms\n",
    "\n",
    "total_meals_hi  = 180          # data starts to become skewed after this point\n",
    "           \n",
    "unique_meals_lo = 1.5          # no data points below this point\n",
    "unique_meals_hi = 9            # there's a sharp drop at 10\n",
    "\n",
    "contacts_cust_lo = 3           # there's a drop below 3\n",
    "contacts_cust_hi = 10          # uncharacteristic increase after 10 that does not follow normal distribution\n",
    "\n",
    "prod_viewed_lo = 1             # no data points below 1\n",
    "prod_viewed_hi = 10            # no data points above 10\n",
    "\n",
    "avg_site_time_hi = 175         # few customers spend over 175 seconds on the website\n",
    "\n",
    "canc_before_noon_hi = 5        # data skews after 5\n",
    " \n",
    "canc_after_noon_lo = 1         # very few data points below this number\n",
    "canc_after_noon_hi = 2         # very few data points after this number\n",
    "\n",
    "pc_logins_lo = 5               # very few data points below 5\n",
    "pc_logins_hi = 6               # very few data points above 6\n",
    "\n",
    "mobile_logins_lo = 1           # very few data points below 1\n",
    "mobile_logins_hi = 2           # very few data points above 2\n",
    "\n",
    "weekly_plan_hi = 14            # sharp drop after 14\n",
    "\n",
    "early_del_hi = 4               # sharp drop after 4\n",
    "\n",
    "late_del_hi = 7                # data skewed after this point\n",
    "\n",
    "avg_prep_time_lo = 80          # few points below 80\n",
    "avg_prep_time_hi = 230         # data skews after this point\n",
    "\n",
    "largest_order_lo = 2           # sharp drop below this point\n",
    "largest_order_hi = 7           # sharp drop after this point\n",
    "\n",
    "master_class_hi = 1            # more than 1 class is an outlier\n",
    "\n",
    "median_rating_lo = 2           # few points below 2\n",
    "median_rating_hi = 4           # very few points after 4\n",
    "\n",
    "avg_clicks_lo = 8              # few points below 8\n",
    "avg_clicks_hi = 17.5           # few points above 17.5\n",
    "\n",
    "\n",
    "revenue_lo = 500               # few values below 500\n",
    "revenue_hi = 2500              # small uncharacteristic rise after this point\n",
    "\n",
    "\n",
    "# Setting multiple outlier thresholds for FOLLOWED_RECOMMEMDATIONS_PCT \n",
    "#(which was found to be highly correlated to CROSS_SELL_SUCCESS)\n",
    "\n",
    "followed_rec_1 = 30\n",
    "followed_rec_2 = 60\n",
    "followed_rec_3 = 80\n"
   ]
  },
  {
   "cell_type": "code",
   "execution_count": 10,
   "metadata": {},
   "outputs": [],
   "source": [
    "##############################################################################\n",
    "## Feature Engineering (outlier thresholds)                                 ##\n",
    "##############################################################################\n",
    "\n",
    "# Developing features (columns) for outliers based on previously-defined thresholds\n",
    "\n",
    "# Total Meals\n",
    "original_df['out_total_meals'] = 0\n",
    "condition_hi = original_df.loc[0:,'out_total_meals'][original_df['TOTAL_MEALS_ORDERED'] > total_meals_hi]\n",
    "\n",
    "original_df['out_total_meals'].replace(to_replace = condition_hi,\n",
    "                                value      = 1,\n",
    "                                inplace    = True)\n",
    "\n",
    "\n",
    "# Unique Meals Purchased\n",
    "original_df['out_unique_meals'] = 0\n",
    "condition_hi = original_df.loc[0:,'out_unique_meals'][original_df['UNIQUE_MEALS_PURCH'] > unique_meals_hi]\n",
    "condition_lo = original_df.loc[0:,'out_unique_meals'][original_df['UNIQUE_MEALS_PURCH'] < unique_meals_lo]\n",
    "\n",
    "original_df['out_unique_meals'].replace(to_replace = condition_hi,\n",
    "                                    value      = 1,\n",
    "                                    inplace    = True)\n",
    "\n",
    "original_df['out_unique_meals'].replace(to_replace = condition_lo,\n",
    "                                    value      = 1,\n",
    "                                    inplace    = True)\n",
    "\n",
    "\n",
    "# Contacts with Customer Service\n",
    "original_df['out_contacts_cust'] = 0\n",
    "condition_hi = original_df.loc[0:,'out_contacts_cust'][original_df['CONTACTS_W_CUSTOMER_SERVICE'] > contacts_cust_hi]\n",
    "condition_lo = original_df.loc[0:,'out_contacts_cust'][original_df['CONTACTS_W_CUSTOMER_SERVICE'] < contacts_cust_lo]\n",
    "\n",
    "original_df['out_contacts_cust'].replace(to_replace = condition_hi,\n",
    "                                    value      = 1,\n",
    "                                    inplace    = True)\n",
    "\n",
    "original_df['out_contacts_cust'].replace(to_replace = condition_lo,\n",
    "                                    value      = 1,\n",
    "                                    inplace    = True)\n",
    "\n",
    "\n",
    "# Product Categories Viewed\n",
    "original_df['out_prod_viewed'] = 0\n",
    "condition_hi = original_df.loc[0:,'out_prod_viewed'][original_df['PRODUCT_CATEGORIES_VIEWED'] > prod_viewed_hi]\n",
    "condition_lo = original_df.loc[0:,'out_prod_viewed'][original_df['PRODUCT_CATEGORIES_VIEWED'] < prod_viewed_lo]\n",
    "\n",
    "original_df['out_prod_viewed'].replace(to_replace = condition_hi,\n",
    "                                    value      = 1,\n",
    "                                    inplace    = True)\n",
    "\n",
    "original_df['out_prod_viewed'].replace(to_replace = condition_lo,\n",
    "                                    value      = 1,\n",
    "                                    inplace    = True)\n",
    "\n",
    "\n",
    "# Average Time per Site Visit\n",
    "original_df['out_avg_site_time'] = 0\n",
    "condition_hi = original_df.loc[0:,'out_avg_site_time'][original_df['AVG_TIME_PER_SITE_VISIT'] > avg_site_time_hi]\n",
    "\n",
    "original_df['out_avg_site_time'].replace(to_replace = condition_hi,\n",
    "                                value      = 1,\n",
    "                                inplace    = True)\n",
    "\n",
    "\n",
    "# Cancellations Before Noon\n",
    "original_df['out_canc_before_noon'] = 0\n",
    "condition_hi = original_df.loc[0:,'out_canc_before_noon'][original_df['CANCELLATIONS_BEFORE_NOON'] > canc_before_noon_hi]\n",
    "\n",
    "original_df['out_canc_before_noon'].replace(to_replace = condition_hi,\n",
    "                                value      = 1,\n",
    "                                inplace    = True)\n",
    "\n",
    "# Cancellations After Noon\n",
    "original_df['out_canc_after_noon'] = 0\n",
    "condition_hi = original_df.loc[0:,'out_canc_after_noon'][original_df['CANCELLATIONS_AFTER_NOON'] > canc_after_noon_hi]\n",
    "condition_lo = original_df.loc[0:,'out_canc_after_noon'][original_df['CANCELLATIONS_AFTER_NOON'] < canc_after_noon_hi]\n",
    "\n",
    "original_df['out_canc_after_noon'].replace(to_replace = condition_hi,\n",
    "                                value      = 1,\n",
    "                                inplace    = True)\n",
    "\n",
    "original_df['out_canc_after_noon'].replace(to_replace = condition_lo,\n",
    "                                    value      = 1,\n",
    "                                    inplace    = True)\n",
    "\n",
    "\n",
    "# PC Logins\n",
    "original_df['out_pc_logins'] = 0\n",
    "condition_hi = original_df.loc[0:,'out_pc_logins'][original_df['PC_LOGINS'] > pc_logins_hi]\n",
    "condition_lo = original_df.loc[0:,'out_pc_logins'][original_df['PC_LOGINS'] < pc_logins_lo]\n",
    "\n",
    "original_df['out_pc_logins'].replace(to_replace = condition_hi,\n",
    "                                    value      = 1,\n",
    "                                    inplace    = True)\n",
    "\n",
    "original_df['out_pc_logins'].replace(to_replace = condition_lo,\n",
    "                                    value      = 1,\n",
    "                                    inplace    = True)\n",
    "\n",
    "\n",
    "# Mobile Logins\n",
    "original_df['out_mobile_logins'] = 0\n",
    "condition_hi = original_df.loc[0:,'out_mobile_logins'][original_df['MOBILE_LOGINS'] > mobile_logins_hi]\n",
    "condition_lo = original_df.loc[0:,'out_mobile_logins'][original_df['MOBILE_LOGINS'] < mobile_logins_lo]\n",
    "\n",
    "original_df['out_mobile_logins'].replace(to_replace = condition_hi,\n",
    "                                    value      = 1,\n",
    "                                    inplace    = True)\n",
    "\n",
    "original_df['out_mobile_logins'].replace(to_replace = condition_lo,\n",
    "                                    value      = 1,\n",
    "                                    inplace    = True)\n",
    "\n",
    "\n",
    "# Weekly Plan\n",
    "original_df['out_weekly_plan'] = 0\n",
    "condition_hi = original_df.loc[0:,'out_weekly_plan'][original_df['WEEKLY_PLAN'] > weekly_plan_hi]\n",
    "\n",
    "original_df['out_weekly_plan'].replace(to_replace = condition_hi,\n",
    "                                value      = 1,\n",
    "                                inplace    = True)\n",
    "\n",
    "\n",
    "# Early Deliveries\n",
    "original_df['out_early_deliveries'] = 0\n",
    "condition_hi = original_df.loc[0:,'out_early_deliveries'][original_df['EARLY_DELIVERIES'] > early_del_hi]\n",
    "\n",
    "original_df['out_early_deliveries'].replace(to_replace = condition_hi,\n",
    "                                value      = 1,\n",
    "                                inplace    = True)\n",
    "\n",
    "# Late Deliveries\n",
    "original_df['out_late_deliveries'] = 0\n",
    "condition_hi = original_df.loc[0:,'out_late_deliveries'][original_df['LATE_DELIVERIES'] > late_del_hi]\n",
    "\n",
    "original_df['out_late_deliveries'].replace(to_replace = condition_hi,\n",
    "                                value      = 1,\n",
    "                                inplace    = True)\n",
    "\n",
    "\n",
    "# Average Preparation Video Time\n",
    "original_df['out_avg_prep_vid_time'] = 0\n",
    "condition_hi = original_df.loc[0:,'out_avg_prep_vid_time'][original_df['AVG_PREP_VID_TIME'] > avg_prep_time_hi]\n",
    "condition_lo = original_df.loc[0:,'out_avg_prep_vid_time'][original_df['AVG_PREP_VID_TIME'] < avg_prep_time_lo]\n",
    "\n",
    "original_df['out_avg_prep_vid_time'].replace(to_replace = condition_hi,\n",
    "                                    value      = 1,\n",
    "                                    inplace    = True)\n",
    "\n",
    "original_df['out_avg_prep_vid_time'].replace(to_replace = condition_lo,\n",
    "                                    value      = 1,\n",
    "                                    inplace    = True)\n",
    "\n",
    "\n",
    "# Largest Order\n",
    "original_df['out_largest_order'] = 0\n",
    "condition_hi = original_df.loc[0:,'out_largest_order'][original_df['LARGEST_ORDER_SIZE'] > largest_order_hi]\n",
    "condition_lo = original_df.loc[0:,'out_largest_order'][original_df['LARGEST_ORDER_SIZE'] < largest_order_lo]\n",
    "\n",
    "original_df['out_largest_order'].replace(to_replace = condition_hi,\n",
    "                                    value      = 1,\n",
    "                                    inplace    = True)\n",
    "\n",
    "original_df['out_largest_order'].replace(to_replace = condition_lo,\n",
    "                                    value      = 1,\n",
    "                                    inplace    = True)\n",
    "\n",
    "\n",
    "\n",
    "# Master Classes Attended\n",
    "original_df['out_master_classes'] = 0\n",
    "condition_hi = original_df.loc[0:,'out_master_classes'][original_df['MASTER_CLASSES_ATTENDED'] > master_class_hi]\n",
    "\n",
    "original_df['out_master_classes'].replace(to_replace = condition_hi,\n",
    "                                value      = 1,\n",
    "                                inplace    = True)\n",
    "\n",
    "\n",
    "# Median Meal Rating\n",
    "original_df['out_median_rating'] = 0\n",
    "condition_hi = original_df.loc[0:,'out_median_rating'][original_df['MEDIAN_MEAL_RATING'] > median_rating_hi]\n",
    "condition_lo = original_df.loc[0:,'out_median_rating'][original_df['MEDIAN_MEAL_RATING'] < median_rating_lo]\n",
    "\n",
    "original_df['out_median_rating'].replace(to_replace = condition_hi,\n",
    "                                    value      = 1,\n",
    "                                    inplace    = True)\n",
    "\n",
    "original_df['out_median_rating'].replace(to_replace = condition_lo,\n",
    "                                    value      = 1,\n",
    "                                    inplace    = True)\n",
    "\n",
    "# Average Clicks per Visit\n",
    "original_df['out_avg_clicks'] = 0\n",
    "condition_hi = original_df.loc[0:,'out_avg_clicks'][original_df['AVG_CLICKS_PER_VISIT'] > avg_clicks_hi]\n",
    "condition_lo = original_df.loc[0:,'out_avg_clicks'][original_df['AVG_CLICKS_PER_VISIT'] < avg_clicks_lo]\n",
    "\n",
    "original_df['out_avg_clicks'].replace(to_replace = condition_hi,\n",
    "                                    value      = 1,\n",
    "                                    inplace    = True)\n",
    "\n",
    "original_df['out_avg_clicks'].replace(to_replace = condition_lo,\n",
    "                                    value      = 1,\n",
    "                                    inplace    = True)\n",
    "\n",
    "# Revenue\n",
    "original_df['out_revenue'] = 0\n",
    "condition_hi = original_df.loc[0:,'out_revenue'][original_df['REVENUE'] > revenue_hi]\n",
    "condition_lo = original_df.loc[0:,'out_revenue'][original_df['REVENUE'] < revenue_lo]\n",
    "\n",
    "original_df['out_revenue'].replace(to_replace = condition_hi,\n",
    "                                    value      = 1,\n",
    "                                    inplace    = True)\n",
    "\n",
    "original_df['out_revenue'].replace(to_replace = condition_lo,\n",
    "                                    value      = 1,\n",
    "                                    inplace    = True)\n",
    "\n",
    "#######\n",
    "\n",
    "original_df['out_followed_rec_1'] = 0\n",
    "condition_1 = original_df.loc[0:,'out_followed_rec_1'][original_df['FOLLOWED_RECOMMENDATIONS_PCT'] > followed_rec_1]\n",
    "\n",
    "original_df['out_followed_rec_1'].replace(to_replace = condition_1,\n",
    "                                    value      = 1,\n",
    "                                    inplace    = True)\n",
    "\n",
    "\n",
    "original_df['out_followed_rec_2'] = 0\n",
    "condition_2 = original_df.loc[0:,'out_followed_rec_2'][original_df['FOLLOWED_RECOMMENDATIONS_PCT'] > followed_rec_2]\n",
    "\n",
    "\n",
    "original_df['out_followed_rec_2'].replace(to_replace = condition_2,\n",
    "                                    value      = 1,\n",
    "                                    inplace    = True)\n",
    "\n",
    "\n",
    "original_df['out_followed_rec_3'] = 0\n",
    "condition_3 = original_df.loc[0:,'out_followed_rec_3'][original_df['FOLLOWED_RECOMMENDATIONS_PCT'] > followed_rec_3]\n",
    "\n",
    "original_df['out_followed_rec_3'].replace(to_replace = condition_3,\n",
    "                                    value      = 1,\n",
    "                                    inplace    = True)\n"
   ]
  },
  {
   "cell_type": "code",
   "execution_count": 11,
   "metadata": {
    "code_folding": [
     0
    ]
   },
   "outputs": [],
   "source": [
    "### Gender Guesser does not work here due to the nature of the names, and did not have any significance\n",
    "\n",
    "# guessing gender based on (given) name\n",
    "\n",
    "#import gender_guesser.detector as gender # guess gender based on (given) name\n",
    "\n",
    "\n",
    "# placeholder list\n",
    "#placeholder_lst = []\n",
    "\n",
    "\n",
    "# looping to guess gender\n",
    "#for name in original_df['FIRST_NAME']:\n",
    "    #guess = gender.Detector().get_gender(name)\n",
    "    #print(guess)\n",
    "    #placeholder_lst.append(guess)\n",
    "\n",
    "\n",
    "# converting list into a series\n",
    "#original_df['gender_guess'] = pd.Series(placeholder_lst)\n",
    "\n",
    "\n",
    "# checking results\n",
    "#original_df.head(n = 5)"
   ]
  },
  {
   "cell_type": "code",
   "execution_count": 12,
   "metadata": {
    "code_folding": [
     0
    ]
   },
   "outputs": [],
   "source": [
    "# Saving new excel file with gender column\n",
    "\n",
    "#original_df.to_excel('Apprentice_Chef_Dataset_Gender.xlsx',\n",
    "                 #index = False)"
   ]
  },
  {
   "cell_type": "code",
   "execution_count": 13,
   "metadata": {
    "code_folding": [
     0
    ]
   },
   "outputs": [],
   "source": [
    "# Reading new file into Python\n",
    "\n",
    "#original_df2 = pd.read_excel(\"Apprentice_Chef_Dataset_Gender.xlsx\")"
   ]
  },
  {
   "cell_type": "code",
   "execution_count": 14,
   "metadata": {
    "code_folding": []
   },
   "outputs": [],
   "source": [
    "#original_df2['gender_guess'].value_counts()"
   ]
  },
  {
   "cell_type": "code",
   "execution_count": 15,
   "metadata": {
    "code_folding": [
     0
    ]
   },
   "outputs": [],
   "source": [
    "# Looking at data dictionary to see which variables should be removed\n",
    "#original_df_description = pd.read_excel(\"Apprentice_Chef_Data_Dictionary.xlsx\")\n",
    "\n",
    "\n",
    "# displaying the data dictionary\n",
    "#original_df_description"
   ]
  },
  {
   "cell_type": "markdown",
   "metadata": {},
   "source": [
    "<h3>Encoding Categorical Variables</h3><br>\n",
    "\n",
    "\"EMAIL\" was identified to be the only categorical variable. To include this categorical variable in the model as a feature and further improve the model's accuracy, it needs to be one-hot encoded to be converted from a string into an integer. <br>\n",
    "\n",
    "To do this, the domains will be separated from each email, and grouped according to whether the domain is junk, personal, or professional email (per specifications given by the marketing team). <br>"
   ]
  },
  {
   "cell_type": "code",
   "execution_count": 16,
   "metadata": {},
   "outputs": [
    {
     "data": {
      "text/html": [
       "<div>\n",
       "<style scoped>\n",
       "    .dataframe tbody tr th:only-of-type {\n",
       "        vertical-align: middle;\n",
       "    }\n",
       "\n",
       "    .dataframe tbody tr th {\n",
       "        vertical-align: top;\n",
       "    }\n",
       "\n",
       "    .dataframe thead th {\n",
       "        text-align: right;\n",
       "    }\n",
       "</style>\n",
       "<table border=\"1\" class=\"dataframe\">\n",
       "  <thead>\n",
       "    <tr style=\"text-align: right;\">\n",
       "      <th></th>\n",
       "      <th>0</th>\n",
       "      <th>1</th>\n",
       "    </tr>\n",
       "  </thead>\n",
       "  <tbody>\n",
       "    <tr>\n",
       "      <th>0</th>\n",
       "      <td>addam.osgrey</td>\n",
       "      <td>passport.com</td>\n",
       "    </tr>\n",
       "    <tr>\n",
       "      <th>1</th>\n",
       "      <td>aegon.blackfyre</td>\n",
       "      <td>jnj.com</td>\n",
       "    </tr>\n",
       "    <tr>\n",
       "      <th>2</th>\n",
       "      <td>aegon.frey.(son.of.aenys)</td>\n",
       "      <td>gmail.com</td>\n",
       "    </tr>\n",
       "    <tr>\n",
       "      <th>3</th>\n",
       "      <td>aegon.targaryen.(son.of.rhaegar)</td>\n",
       "      <td>ibm.com</td>\n",
       "    </tr>\n",
       "    <tr>\n",
       "      <th>4</th>\n",
       "      <td>aegon.v.targaryen</td>\n",
       "      <td>goldmansacs.com</td>\n",
       "    </tr>\n",
       "    <tr>\n",
       "      <th>...</th>\n",
       "      <td>...</td>\n",
       "      <td>...</td>\n",
       "    </tr>\n",
       "    <tr>\n",
       "      <th>1941</th>\n",
       "      <td>yandry</td>\n",
       "      <td>yahoo.com</td>\n",
       "    </tr>\n",
       "    <tr>\n",
       "      <th>1942</th>\n",
       "      <td>yorkel</td>\n",
       "      <td>gmail.com</td>\n",
       "    </tr>\n",
       "    <tr>\n",
       "      <th>1943</th>\n",
       "      <td>young.henly</td>\n",
       "      <td>gmail.com</td>\n",
       "    </tr>\n",
       "    <tr>\n",
       "      <th>1944</th>\n",
       "      <td>ysilla</td>\n",
       "      <td>protonmail.com</td>\n",
       "    </tr>\n",
       "    <tr>\n",
       "      <th>1945</th>\n",
       "      <td>ysilla.royce</td>\n",
       "      <td>hotmail.com</td>\n",
       "    </tr>\n",
       "  </tbody>\n",
       "</table>\n",
       "<p>1946 rows × 2 columns</p>\n",
       "</div>"
      ],
      "text/plain": [
       "                                     0                1\n",
       "0                         addam.osgrey     passport.com\n",
       "1                      aegon.blackfyre          jnj.com\n",
       "2            aegon.frey.(son.of.aenys)        gmail.com\n",
       "3     aegon.targaryen.(son.of.rhaegar)          ibm.com\n",
       "4                    aegon.v.targaryen  goldmansacs.com\n",
       "...                                ...              ...\n",
       "1941                            yandry        yahoo.com\n",
       "1942                            yorkel        gmail.com\n",
       "1943                       young.henly        gmail.com\n",
       "1944                            ysilla   protonmail.com\n",
       "1945                      ysilla.royce      hotmail.com\n",
       "\n",
       "[1946 rows x 2 columns]"
      ]
     },
     "execution_count": 16,
     "metadata": {},
     "output_type": "execute_result"
    }
   ],
   "source": [
    "# Splitting emails\n",
    "\n",
    "# placeholder list\n",
    "placeholder_lst = []     \n",
    "\n",
    "# looping over each email address\n",
    "for index, col in original_df.iterrows():\n",
    "    \n",
    "    # splitting email domain at '@'\n",
    "    split_email = original_df.loc[index, 'EMAIL'].split(sep = '@')\n",
    "    \n",
    "    # appending placeholder_lst with the results\n",
    "    placeholder_lst.append(split_email)\n",
    "    \n",
    "\n",
    "# converting placeholder_lst into a DataFrame \n",
    "email_df = pd.DataFrame(placeholder_lst)\n",
    "\n",
    "\n",
    "# displaying the results\n",
    "email_df\n"
   ]
  },
  {
   "cell_type": "code",
   "execution_count": 17,
   "metadata": {},
   "outputs": [
    {
     "data": {
      "text/plain": [
       "gmail.com           303\n",
       "protonmail.com      284\n",
       "yahoo.com           274\n",
       "msn.com              72\n",
       "aol.com              69\n",
       "passport.com         64\n",
       "hotmail.com          63\n",
       "live.com             62\n",
       "me.com               59\n",
       "amex.com             30\n",
       "merck.com            28\n",
       "jnj.com              28\n",
       "cocacola.com         28\n",
       "mcdonalds.com        28\n",
       "apple.com            27\n",
       "nike.com             27\n",
       "dupont.com           26\n",
       "ge.org               26\n",
       "ibm.com              26\n",
       "chevron.com          25\n",
       "microsoft.com        25\n",
       "travelers.com        24\n",
       "exxon.com            24\n",
       "unitedhealth.com     24\n",
       "boeing.com           23\n",
       "verizon.com          22\n",
       "pg.com               22\n",
       "mmm.com              22\n",
       "caterpillar.com      22\n",
       "walmart.com          21\n",
       "disney.com           21\n",
       "pfizer.com           20\n",
       "visa.com             20\n",
       "jpmorgan.com         19\n",
       "goldmansacs.com      18\n",
       "unitedtech.com       18\n",
       "cisco.com            18\n",
       "homedepot.com        17\n",
       "intel.com            17\n",
       "Name: email_domain, dtype: int64"
      ]
     },
     "execution_count": 17,
     "metadata": {},
     "output_type": "execute_result"
    }
   ],
   "source": [
    "# Concatenating with original DataFrame \n",
    "\n",
    "# Renaming column to concatenate\n",
    "email_df.columns = ['name' , 'email_domain']     # Renaming columns 0 and 1 from before to \"name\" and \"domain\"\n",
    "\n",
    "\n",
    "# Concatenating email_domain with original_df DataFrame\n",
    "original_df = pd.concat([original_df, email_df['email_domain']],\n",
    "                   axis = 1)\n",
    "\n",
    "\n",
    "# Printing value counts of email_domain\n",
    "original_df.loc[: ,'email_domain'].value_counts()"
   ]
  },
  {
   "cell_type": "code",
   "execution_count": 18,
   "metadata": {},
   "outputs": [
    {
     "data": {
      "text/plain": [
       "personal        861\n",
       "professional    696\n",
       "junk            389\n",
       "Name: domain_group, dtype: int64"
      ]
     },
     "execution_count": 18,
     "metadata": {},
     "output_type": "execute_result"
    }
   ],
   "source": [
    "# Aggregating domains into higher-level categories\n",
    "\n",
    "# Email domain types\n",
    "professional_email_domains = ['@mmm.com',\n",
    "                              '@amex.com',\n",
    "                              '@apple.com',\n",
    "                              '@boeing.com',\n",
    "                              '@caterpillar.com',\n",
    "                              '@chevron.com',\n",
    "                              '@cisco.com',\n",
    "                              '@cocacola.com',\n",
    "                              '@disney.com',\n",
    "                              '@dupont.com',\n",
    "                              '@exxon.com',\n",
    "                              '@ge.org',\n",
    "                              '@goldmansacs.com',\n",
    "                              '@homedepot.com',\n",
    "                              '@ibm.com',\n",
    "                              '@intel.com',\n",
    "                              '@jnj.com',\n",
    "                              '@jpmorgan.com',\n",
    "                              '@mcdonalds.com',\n",
    "                              '@merck.com',\n",
    "                              '@microsoft.com',\n",
    "                              '@nike.com',\n",
    "                              '@pfizer.com',\n",
    "                              '@pg.com',\n",
    "                              '@travelers.com',\n",
    "                              '@unitedtech.com',\n",
    "                              '@unitedhealth.com',\n",
    "                              '@verizon.com',\n",
    "                              '@visa.com',\n",
    "                              '@walmart.com']\n",
    " \n",
    "            \n",
    "personal_email_domains = ['@gmail.com', \n",
    "                          '@yahoo.com',\n",
    "                          '@protonmail.com']\n",
    "\n",
    "\n",
    "junk_email_domains  = ['@me.com',\n",
    "                       '@aol.com',\n",
    "                       '@hotmail.com',\n",
    "                       '@live.com',\n",
    "                       '@msn.com',\n",
    "                       '@passport.com']\n",
    "\n",
    "\n",
    "# Placeholder list\n",
    "placeholder_lst = []\n",
    "\n",
    "\n",
    "# Looping to group observations by domain type\n",
    "for domain in original_df['email_domain']:\n",
    "        if '@' + domain in professional_email_domains:\n",
    "            placeholder_lst.append('professional')\n",
    "    \n",
    "        elif '@' + domain in personal_email_domains:\n",
    "            placeholder_lst.append('personal')\n",
    "            \n",
    "        elif '@' + domain in junk_email_domains:\n",
    "            placeholder_lst.append('junk')\n",
    "            \n",
    "        else:\n",
    "            print('Unknown')\n",
    "\n",
    "\n",
    "# Concatenating with original DataFrame\n",
    "original_df['domain_group'] = pd.Series(placeholder_lst)\n",
    "\n",
    "\n",
    "# Checking results\n",
    "original_df['domain_group'].value_counts()"
   ]
  },
  {
   "cell_type": "code",
   "execution_count": 19,
   "metadata": {},
   "outputs": [],
   "source": [
    "# One hot encoding emails\n",
    "one_hot_domain_group = pd.get_dummies(original_df['domain_group'])\n",
    "\n",
    "# Joining encoded variables with dataset\n",
    "original_df = original_df.join([one_hot_domain_group])\n"
   ]
  },
  {
   "cell_type": "code",
   "execution_count": 20,
   "metadata": {},
   "outputs": [],
   "source": [
    "# Dropping categorical variables after they've been encoded\n",
    "\n",
    "original_df_dropped = original_df.drop(['NAME', \n",
    "                          'FIRST_NAME', \n",
    "                          'FAMILY_NAME',\n",
    "                          'EMAIL', \n",
    "                          'email_domain', \n",
    "                          'domain_group', \n",
    "                          'CROSS_SELL_SUCCESS'],\n",
    "               axis = 1)\n"
   ]
  },
  {
   "cell_type": "code",
   "execution_count": 21,
   "metadata": {},
   "outputs": [],
   "source": [
    "# Running a loop to make inserting variables into list easier\n",
    "\n",
    "#for val in original_df_dropped:\n",
    "    #print(f\"\\'{val}\\',\")"
   ]
  },
  {
   "cell_type": "markdown",
   "metadata": {},
   "source": [
    "<strong>Running Pearson Correlation Matrix</strong><br><br>\n",
    "After engineering new features, a Pearson Correlation Matrix will be run again to get an overview of initial correlation of CROSS_SELL_SUCCESS to every explanatory variable.<br>"
   ]
  },
  {
   "cell_type": "code",
   "execution_count": 22,
   "metadata": {},
   "outputs": [
    {
     "name": "stdout",
     "output_type": "stream",
     "text": [
      "CROSS_SELL_SUCCESS              1.00\n",
      "out_followed_rec_1              0.56\n",
      "FOLLOWED_RECOMMENDATIONS_PCT    0.46\n",
      "out_followed_rec_2              0.35\n",
      "professional                    0.19\n",
      "CANCELLATIONS_BEFORE_NOON       0.16\n",
      "out_followed_rec_3              0.13\n",
      "MOBILE_NUMBER                   0.10\n",
      "TASTES_AND_PREFERENCES          0.08\n",
      "REFRIGERATED_LOCKER             0.07\n",
      "out_canc_after_noon             0.07\n",
      "out_canc_before_noon            0.06\n",
      "CONTACTS_W_CUSTOMER_SERVICE     0.04\n",
      "personal                        0.04\n",
      "MASTER_CLASSES_ATTENDED         0.04\n",
      "PC_LOGINS                       0.04\n",
      "PACKAGE_LOCKER                  0.04\n",
      "AVG_PREP_VID_TIME               0.03\n",
      "MEDIAN_MEAL_RATING              0.03\n",
      "EARLY_DELIVERIES                0.02\n",
      "out_late_deliveries             0.02\n",
      "m_FAMILY_NAME                   0.02\n",
      "LARGEST_ORDER_SIZE              0.02\n",
      "out_early_deliveries            0.02\n",
      "LATE_DELIVERIES                 0.01\n",
      "AVG_TIME_PER_SITE_VISIT         0.01\n",
      "TOTAL_MEALS_ORDERED             0.01\n",
      "TOTAL_PHOTOS_VIEWED             0.01\n",
      "out_avg_prep_vid_time           0.01\n",
      "out_weekly_plan                 0.00\n",
      "UNIQUE_MEALS_PURCH              0.00\n",
      "PRODUCT_CATEGORIES_VIEWED       0.00\n",
      "out_median_rating              -0.00\n",
      "out_master_classes              0.00\n",
      "REVENUE                         0.00\n",
      "out_avg_site_time               0.00\n",
      "WEEKLY_PLAN                    -0.01\n",
      "out_revenue                    -0.01\n",
      "out_mobile_logins              -0.02\n",
      "out_largest_order              -0.02\n",
      "out_contacts_cust              -0.02\n",
      "out_total_meals                -0.03\n",
      "out_pc_logins                  -0.03\n",
      "out_avg_clicks                 -0.03\n",
      "out_unique_meals               -0.03\n",
      "AVG_CLICKS_PER_VISIT           -0.04\n",
      "MOBILE_LOGINS                  -0.05\n",
      "CANCELLATIONS_AFTER_NOON       -0.05\n",
      "junk                           -0.28\n",
      "out_prod_viewed                  NaN\n",
      "Name: CROSS_SELL_SUCCESS, dtype: float64\n"
     ]
    }
   ],
   "source": [
    "# Re-running Pearson correlation matrix with new features included \n",
    "\n",
    "df_corr = original_df.corr().round(2)\n",
    "\n",
    "# Printing (Pearson) correlations with CROSS_SELL_SUCCESS\n",
    "print(df_corr.loc['CROSS_SELL_SUCCESS'].sort_values(ascending = False))"
   ]
  },
  {
   "cell_type": "markdown",
   "metadata": {},
   "source": [
    "<h3>Candidate Modelling</h3><br>\n",
    "<strong>Preparing Model Variables</strong>\n",
    "\n",
    "Here, different variables will be assigned to different model objects, depending on different decision plots and factors. The different sets of variables will be run and their scores will be compared to see which set of variables yields the best scores."
   ]
  },
  {
   "cell_type": "code",
   "execution_count": 23,
   "metadata": {},
   "outputs": [],
   "source": [
    "# Base model with all explanatory variables, including engineered features\n",
    "model_1 = ['REVENUE',\n",
    "           'TOTAL_MEALS_ORDERED',\n",
    "           'UNIQUE_MEALS_PURCH',\n",
    "           'CONTACTS_W_CUSTOMER_SERVICE',\n",
    "           'PRODUCT_CATEGORIES_VIEWED',\n",
    "           'AVG_TIME_PER_SITE_VISIT',\n",
    "           'MOBILE_NUMBER',\n",
    "           'CANCELLATIONS_BEFORE_NOON',\n",
    "           'CANCELLATIONS_AFTER_NOON',\n",
    "           'TASTES_AND_PREFERENCES',\n",
    "           'PC_LOGINS',\n",
    "           'MOBILE_LOGINS',\n",
    "           'WEEKLY_PLAN',\n",
    "           'EARLY_DELIVERIES',\n",
    "           'LATE_DELIVERIES',\n",
    "           'PACKAGE_LOCKER',\n",
    "           'REFRIGERATED_LOCKER',\n",
    "           'FOLLOWED_RECOMMENDATIONS_PCT',\n",
    "           'AVG_PREP_VID_TIME',\n",
    "           'LARGEST_ORDER_SIZE',\n",
    "           'MASTER_CLASSES_ATTENDED',\n",
    "           'MEDIAN_MEAL_RATING',\n",
    "           'AVG_CLICKS_PER_VISIT',\n",
    "           'TOTAL_PHOTOS_VIEWED',\n",
    "           'm_FAMILY_NAME',\n",
    "           'out_followed_rec_1',\n",
    "           'out_followed_rec_2',\n",
    "           'out_followed_rec_3',\n",
    "           'out_total_meals',\n",
    "           'out_unique_meals',\n",
    "           'out_contacts_cust',\n",
    "           'out_prod_viewed',\n",
    "           'out_avg_site_time',\n",
    "           'out_canc_before_noon',\n",
    "           'out_canc_after_noon',\n",
    "           'out_pc_logins',\n",
    "           'out_mobile_logins',\n",
    "           'out_weekly_plan',\n",
    "           'out_early_deliveries',\n",
    "           'out_late_deliveries',\n",
    "           'out_avg_prep_vid_time',\n",
    "           'out_largest_order',\n",
    "           'out_master_classes',\n",
    "           'out_median_rating',\n",
    "           'out_avg_clicks',\n",
    "           'out_revenue',\n",
    "           'personal',\n",
    "           'professional']\n",
    "\n",
    "\n",
    "# Model variables identified based on feature importance plot\n",
    "model_2 = ['out_followed_rec_1',\n",
    "           'professional',\n",
    "           'personal',\n",
    "           'CANCELLATIONS_BEFORE_NOON',\n",
    "           'FOLLOWED_RECOMMENDATIONS_PCT',\n",
    "           'MOBILE_NUMBER']\n",
    "\n",
    "\n",
    "# Model variables identified based on Pearson correlation\n",
    "model_3 = ['out_followed_rec_1',\n",
    "           'FOLLOWED_RECOMMENDATIONS_PCT',\n",
    "           'out_followed_rec_2',\n",
    "           'professional',\n",
    "           'CANCELLATIONS_BEFORE_NOON',\n",
    "           'junk',\n",
    "           'MOBILE_NUMBER']\n",
    "\n",
    "\n",
    "# Model variables identified based on logistic regression (p-value less than 0.05)\n",
    "model_4 = ['MOBILE_NUMBER',\n",
    "           'CANCELLATIONS_BEFORE_NOON',\n",
    "           'CANCELLATIONS_AFTER_NOON',\n",
    "           'TASTES_AND_PREFERENCES',\n",
    "           'PC_LOGINS',\n",
    "           'MOBILE_LOGINS',\n",
    "           'REFRIGERATED_LOCKER',\n",
    "           'FOLLOWED_RECOMMENDATIONS_PCT',\n",
    "           'm_FAMILY_NAME',\n",
    "           'personal',\n",
    "           'professional']\n"
   ]
  },
  {
   "cell_type": "markdown",
   "metadata": {},
   "source": [
    "After running all the different model objects (sets of variables), <strong>model_4</strong> was found to yield the best model performance. So, this set of explanatory variables will be used for the models."
   ]
  },
  {
   "cell_type": "markdown",
   "metadata": {},
   "source": [
    "<h3>Scaling Data</h3><br>\n",
    "\n",
    "Here, the explanatory variables will be standardized so that each feature's variance is measured on the same scale. This is required for KNN and Gradient Boosted Classifications, but the standardized data will be used for all models."
   ]
  },
  {
   "cell_type": "code",
   "execution_count": 24,
   "metadata": {},
   "outputs": [
    {
     "data": {
      "text/html": [
       "<div>\n",
       "<style scoped>\n",
       "    .dataframe tbody tr th:only-of-type {\n",
       "        vertical-align: middle;\n",
       "    }\n",
       "\n",
       "    .dataframe tbody tr th {\n",
       "        vertical-align: top;\n",
       "    }\n",
       "\n",
       "    .dataframe thead th {\n",
       "        text-align: right;\n",
       "    }\n",
       "</style>\n",
       "<table border=\"1\" class=\"dataframe\">\n",
       "  <thead>\n",
       "    <tr style=\"text-align: right;\">\n",
       "      <th></th>\n",
       "      <th>MOBILE_NUMBER</th>\n",
       "      <th>CANCELLATIONS_BEFORE_NOON</th>\n",
       "      <th>CANCELLATIONS_AFTER_NOON</th>\n",
       "      <th>TASTES_AND_PREFERENCES</th>\n",
       "      <th>PC_LOGINS</th>\n",
       "      <th>MOBILE_LOGINS</th>\n",
       "      <th>REFRIGERATED_LOCKER</th>\n",
       "      <th>FOLLOWED_RECOMMENDATIONS_PCT</th>\n",
       "      <th>m_FAMILY_NAME</th>\n",
       "      <th>personal</th>\n",
       "      <th>professional</th>\n",
       "    </tr>\n",
       "  </thead>\n",
       "  <tbody>\n",
       "    <tr>\n",
       "      <th>count</th>\n",
       "      <td>1946.00</td>\n",
       "      <td>1946.00</td>\n",
       "      <td>1946.00</td>\n",
       "      <td>1946.00</td>\n",
       "      <td>1946.00</td>\n",
       "      <td>1946.00</td>\n",
       "      <td>1946.00</td>\n",
       "      <td>1946.00</td>\n",
       "      <td>1946.00</td>\n",
       "      <td>1946.00</td>\n",
       "      <td>1946.00</td>\n",
       "    </tr>\n",
       "    <tr>\n",
       "      <th>mean</th>\n",
       "      <td>0.00</td>\n",
       "      <td>-0.00</td>\n",
       "      <td>-0.00</td>\n",
       "      <td>-0.00</td>\n",
       "      <td>-0.00</td>\n",
       "      <td>-0.00</td>\n",
       "      <td>0.00</td>\n",
       "      <td>0.00</td>\n",
       "      <td>-0.00</td>\n",
       "      <td>0.00</td>\n",
       "      <td>0.00</td>\n",
       "    </tr>\n",
       "    <tr>\n",
       "      <th>std</th>\n",
       "      <td>1.00</td>\n",
       "      <td>1.00</td>\n",
       "      <td>1.00</td>\n",
       "      <td>1.00</td>\n",
       "      <td>1.00</td>\n",
       "      <td>1.00</td>\n",
       "      <td>1.00</td>\n",
       "      <td>1.00</td>\n",
       "      <td>1.00</td>\n",
       "      <td>1.00</td>\n",
       "      <td>1.00</td>\n",
       "    </tr>\n",
       "    <tr>\n",
       "      <th>min</th>\n",
       "      <td>-2.68</td>\n",
       "      <td>-0.91</td>\n",
       "      <td>-0.38</td>\n",
       "      <td>-1.58</td>\n",
       "      <td>-2.61</td>\n",
       "      <td>-2.80</td>\n",
       "      <td>-0.36</td>\n",
       "      <td>-1.33</td>\n",
       "      <td>-0.16</td>\n",
       "      <td>-0.89</td>\n",
       "      <td>-0.75</td>\n",
       "    </tr>\n",
       "    <tr>\n",
       "      <th>25%</th>\n",
       "      <td>0.37</td>\n",
       "      <td>-0.91</td>\n",
       "      <td>-0.38</td>\n",
       "      <td>-1.58</td>\n",
       "      <td>-0.89</td>\n",
       "      <td>-0.90</td>\n",
       "      <td>-0.36</td>\n",
       "      <td>-0.96</td>\n",
       "      <td>-0.16</td>\n",
       "      <td>-0.89</td>\n",
       "      <td>-0.75</td>\n",
       "    </tr>\n",
       "    <tr>\n",
       "      <th>50%</th>\n",
       "      <td>0.37</td>\n",
       "      <td>-0.26</td>\n",
       "      <td>-0.38</td>\n",
       "      <td>0.63</td>\n",
       "      <td>0.83</td>\n",
       "      <td>-0.90</td>\n",
       "      <td>-0.36</td>\n",
       "      <td>-0.20</td>\n",
       "      <td>-0.16</td>\n",
       "      <td>-0.89</td>\n",
       "      <td>-0.75</td>\n",
       "    </tr>\n",
       "    <tr>\n",
       "      <th>75%</th>\n",
       "      <td>0.37</td>\n",
       "      <td>0.38</td>\n",
       "      <td>-0.38</td>\n",
       "      <td>0.63</td>\n",
       "      <td>0.83</td>\n",
       "      <td>0.99</td>\n",
       "      <td>-0.36</td>\n",
       "      <td>0.93</td>\n",
       "      <td>-0.16</td>\n",
       "      <td>1.12</td>\n",
       "      <td>1.34</td>\n",
       "    </tr>\n",
       "    <tr>\n",
       "      <th>max</th>\n",
       "      <td>0.37</td>\n",
       "      <td>7.48</td>\n",
       "      <td>6.56</td>\n",
       "      <td>0.63</td>\n",
       "      <td>2.56</td>\n",
       "      <td>2.89</td>\n",
       "      <td>2.80</td>\n",
       "      <td>2.05</td>\n",
       "      <td>6.36</td>\n",
       "      <td>1.12</td>\n",
       "      <td>1.34</td>\n",
       "    </tr>\n",
       "  </tbody>\n",
       "</table>\n",
       "</div>"
      ],
      "text/plain": [
       "       MOBILE_NUMBER  CANCELLATIONS_BEFORE_NOON  CANCELLATIONS_AFTER_NOON  TASTES_AND_PREFERENCES  PC_LOGINS  MOBILE_LOGINS  REFRIGERATED_LOCKER  FOLLOWED_RECOMMENDATIONS_PCT  m_FAMILY_NAME  personal  professional\n",
       "count        1946.00                    1946.00                   1946.00                 1946.00    1946.00        1946.00              1946.00                       1946.00        1946.00   1946.00       1946.00\n",
       "mean            0.00                      -0.00                     -0.00                   -0.00      -0.00          -0.00                 0.00                          0.00          -0.00      0.00          0.00\n",
       "std             1.00                       1.00                      1.00                    1.00       1.00           1.00                 1.00                          1.00           1.00      1.00          1.00\n",
       "min            -2.68                      -0.91                     -0.38                   -1.58      -2.61          -2.80                -0.36                         -1.33          -0.16     -0.89         -0.75\n",
       "25%             0.37                      -0.91                     -0.38                   -1.58      -0.89          -0.90                -0.36                         -0.96          -0.16     -0.89         -0.75\n",
       "50%             0.37                      -0.26                     -0.38                    0.63       0.83          -0.90                -0.36                         -0.20          -0.16     -0.89         -0.75\n",
       "75%             0.37                       0.38                     -0.38                    0.63       0.83           0.99                -0.36                          0.93          -0.16      1.12          1.34\n",
       "max             0.37                       7.48                      6.56                    0.63       2.56           2.89                 2.80                          2.05           6.36      1.12          1.34"
      ]
     },
     "execution_count": 24,
     "metadata": {},
     "output_type": "execute_result"
    }
   ],
   "source": [
    "# Assigning only explanatory variables to a new dataframe for scaling\n",
    "\n",
    "original_df_dropped_df = original_df_dropped.loc[ : , model_4]\n",
    "\n",
    "### Scaling data\n",
    "\n",
    "\n",
    "# INSTANTIATING a StandardScaler() object\n",
    "scaler = StandardScaler()\n",
    "\n",
    "\n",
    "# FITTING the scaler with original_df data with all the strings and categorical variables dropped\n",
    "# Only want to standardize the X side, because we only have one y variable so the variance would be all the same\n",
    "scaler.fit(original_df_dropped_df)   \n",
    "\n",
    "\n",
    "# TRANSFORMING our data after fit\n",
    "X_scaled = scaler.transform(original_df_dropped_df)\n",
    "\n",
    "\n",
    "# converting scaled data into a DataFrame\n",
    "X_scaled_df = pd.DataFrame(X_scaled)\n",
    "\n",
    "\n",
    "# Renaming scaled data columns from numbers to original names\n",
    "X_scaled_df.columns = original_df_dropped_df.columns\n",
    "\n",
    "\n",
    "# checking the results\n",
    "X_scaled_df.describe().round(2)\n",
    "\n"
   ]
  },
  {
   "cell_type": "markdown",
   "metadata": {},
   "source": [
    "<h3>Building a Train-Test Split</h3><br>\n",
    "\n",
    "\n",
    "A train-test split will be defined, where 75% of the data will be used to train the model, and the other 25% of the data will be used to test it. This split is done so that the model does not overfit - i.e. adhere too closely to existing data - and ensure that it predicts accurately on new observations. As previously mentioned, the split will be done on the scaled explanatory variables."
   ]
  },
  {
   "cell_type": "code",
   "execution_count": 25,
   "metadata": {},
   "outputs": [],
   "source": [
    "## Train-test split\n",
    "\n",
    "# Explanatory variable data\n",
    "original_df_explanatory = X_scaled_df\n",
    "\n",
    "\n",
    "# Response variable data\n",
    "original_df_target = original_df.loc[:, 'CROSS_SELL_SUCCESS']\n",
    "\n",
    "\n",
    "# Preparing training and testing sets\n",
    "\n",
    "X_train, X_test, y_train, y_test = train_test_split(\n",
    "                                   original_df_explanatory,\n",
    "                                   original_df_target,\n",
    "                                   test_size = 0.25,\n",
    "                                   random_state = 222,\n",
    "                                   stratify = original_df_target)\n"
   ]
  },
  {
   "cell_type": "markdown",
   "metadata": {},
   "source": [
    "<h3>Running Models</h3><br>\n",
    "\n",
    "With the features engineered into the original original_df dataset, the models are now ready to be run.<br>\n",
    "\n",
    "After building the train-test split, six different models will be run and tested to compare the scores of each one and see which one results in the highest AUC score, while still having a training and testing score within 0.05 of one another to ensure the model is not overfitting. <br>\n",
    "<br>\n",
    "The AUC score will be focused on to evaluate the classification models, as it takes into account sensitivity and specificity, i.e. false-positive and false-negative rates in the Confusion Matrix, to measure performance. Here, I will be using the ROC AUC.\n",
    "<br><br>\n",
    "After running each model, results of its Training Accuracy, Testing Accuracy, and AUC scores will be saved and stored in a list called <strong>model_performance</strong>, so that they can all be compared."
   ]
  },
  {
   "cell_type": "markdown",
   "metadata": {},
   "source": [
    "<h4>CART Model</h4><br>\n",
    "\n",
    "First, a classification tree will be created to see which features are important to the model. To avoid overfitting to the training data, the tree will be pruned, in that its growth will be limited. To do this, the maximum amount of nodes will be specified, as well as the minimum samples per leaf (the amount of samples to be leftover after splitting)."
   ]
  },
  {
   "cell_type": "code",
   "execution_count": 26,
   "metadata": {},
   "outputs": [
    {
     "name": "stdout",
     "output_type": "stream",
     "text": [
      "Training ACCURACY: 0.8095\n",
      "Testing  ACCURACY: 0.7864\n",
      "AUC Score        : 0.77\n"
     ]
    }
   ],
   "source": [
    "# CART MODEL\n",
    "\n",
    "# Constructing a full tree to help with variable selection\n",
    "\n",
    "# INSTANTIATING a classification tree object\n",
    "tree = DecisionTreeClassifier(max_depth = 7,           # restricting growth of tree\n",
    "                              min_samples_leaf = 15,    # specifying amount of samples to be leftover after split\n",
    "                              min_samples_split = 100,\n",
    "                              splitter = 'random',\n",
    "                              random_state = 222)\n",
    "\n",
    "\n",
    "# FITTING the training data\n",
    "tree_fit = tree.fit(X_train, y_train)\n",
    "\n",
    "\n",
    "# PREDICTING on new data\n",
    "tree_pred = tree_fit.predict(X_test)\n",
    "\n",
    "\n",
    "# SCORING the model\n",
    "print('Training ACCURACY:', tree_fit.score(X_train, y_train).round(4))\n",
    "print('Testing  ACCURACY:', tree_fit.score(X_test, y_test).round(4))\n",
    "print('AUC Score        :', roc_auc_score(y_true  = y_test,\n",
    "                                          y_score = tree_pred).round(4))\n"
   ]
  },
  {
   "cell_type": "markdown",
   "metadata": {},
   "source": [
    "<strong>Saving CART Model Results</strong>"
   ]
  },
  {
   "cell_type": "code",
   "execution_count": 27,
   "metadata": {},
   "outputs": [
    {
     "name": "stdout",
     "output_type": "stream",
     "text": [
      "['Model', 'Training Accuracy', 'Testing Accuracy', 'AUC Value']\n",
      "['Pruned Tree', 0.8095, 0.7864, 0.77]\n"
     ]
    }
   ],
   "source": [
    "# creating an empty list\n",
    "model_performance = [['Model', 'Training Accuracy',\n",
    "                      'Testing Accuracy', 'AUC Value']]\n",
    "\n",
    "# train accuracy\n",
    "tree_train_acc = tree_fit.score(X_train, y_train).round(4)\n",
    "\n",
    "\n",
    "# test accuracy\n",
    "tree_test_acc  = tree_fit.score(X_test, y_test).round(4)\n",
    "\n",
    "\n",
    "# auc value\n",
    "tree_auc       = roc_auc_score(y_true  = y_test,\n",
    "                               y_score = tree_pred).round(4)\n",
    "\n",
    "\n",
    "# saving the results\n",
    "model_performance.append(['Pruned Tree',\n",
    "                          tree_train_acc,\n",
    "                          tree_test_acc,\n",
    "                          tree_auc])\n",
    "\n",
    "\n",
    "# checking the results\n",
    "for model in model_performance:\n",
    "    print(model)"
   ]
  },
  {
   "cell_type": "markdown",
   "metadata": {
    "code_folding": []
   },
   "source": [
    "<strong>Feature Importance Plot</strong><br><br>\n",
    "Here, the feature importances will be plotted on the scaled explanatory data in model_1, which is the base model that includes all explanatory variables including engineered features. From the plot, the most important features will be identified and put into another model object to be run separately.\n",
    "<br><br>\n",
    "Since this plot was only used to look at which features were important for further analysis, it was commented out as it was no longer needed after that."
   ]
  },
  {
   "cell_type": "code",
   "execution_count": 28,
   "metadata": {
    "code_folding": [],
    "scrolled": false
   },
   "outputs": [],
   "source": [
    "# Calling feature importance function\n",
    "\n",
    "#plot_feature_importances(tree_fit, \n",
    "                         #train = X_train, \n",
    "                         #export = False)"
   ]
  },
  {
   "cell_type": "markdown",
   "metadata": {},
   "source": [
    "<strong>Output:</strong>\n",
    "According to the feature importance plot, FOLLOWED_RECOMMEMDATIONS_PCT, CANCELLATIONS_BEFORE_NOON, professional, personal, and MOBILE_NUMBER are the most important features in the CART model.\n",
    "<br><br>\n",
    "Upon looking at the previously-plotted histograms that were used to set outlier thresholds, it was found that no thresholds were previously set for the FOLLOWED_RECOMMEMDATIONS_PCT variable. Since it was found to be an important feature, outlier thresholds was then set and placed with the other outlier thresholds in the respective section, for organization purposes.\n",
    "<br>\n",
    "***\n",
    "After running these new outlier thresholds, the feature importance plot was ran again, and out_followed_rec_1 (the first outlier threshold for FOLLOWED_RECOMMEMDATIONS_PCT) was found to be the most important feature in the model, followed by professional, personal, CANCELLATIONS_BEFORE_NOON, FOLLOWED_RECOMMEMDATIONS_PCT, and MOBILE_NUMBER. These explanatory variables were then put in candidate model <strong>model_2</strong>, to be run separately.\n",
    "***"
   ]
  },
  {
   "cell_type": "markdown",
   "metadata": {},
   "source": [
    "<h4>Logistic Regression</h4><br>\n",
    "\n",
    "With the logistic regression, all the explanatory variables were correlated against the response variable, CROSS_SELL_SUCCESS. Then, insignificant variables were removed one-by-one according to p-values, until all p-values in the model were below 0.05. These remaining explanatory variables were then put in the candidate model <strong>model_3</strong> to be run again later on.\n",
    "<br>"
   ]
  },
  {
   "cell_type": "code",
   "execution_count": 29,
   "metadata": {
    "code_folding": []
   },
   "outputs": [
    {
     "name": "stdout",
     "output_type": "stream",
     "text": [
      "Optimization terminated successfully.\n",
      "         Current function value: 0.436523\n",
      "         Iterations 7\n"
     ]
    },
    {
     "data": {
      "text/html": [
       "<table class=\"simpletable\">\n",
       "<caption>Logit Regression Results</caption>\n",
       "<tr>\n",
       "  <th>Dep. Variable:</th>   <td>CROSS_SELL_SUCCESS</td> <th>  No. Observations:  </th>   <td>  1946</td>  \n",
       "</tr>\n",
       "<tr>\n",
       "  <th>Model:</th>                  <td>Logit</td>       <th>  Df Residuals:      </th>   <td>  1934</td>  \n",
       "</tr>\n",
       "<tr>\n",
       "  <th>Method:</th>                  <td>MLE</td>        <th>  Df Model:          </th>   <td>    11</td>  \n",
       "</tr>\n",
       "<tr>\n",
       "  <th>Date:</th>             <td>Sun, 15 Mar 2020</td>  <th>  Pseudo R-squ.:     </th>   <td>0.3046</td>  \n",
       "</tr>\n",
       "<tr>\n",
       "  <th>Time:</th>                 <td>19:05:29</td>      <th>  Log-Likelihood:    </th>  <td> -849.47</td> \n",
       "</tr>\n",
       "<tr>\n",
       "  <th>converged:</th>              <td>True</td>        <th>  LL-Null:           </th>  <td> -1221.6</td> \n",
       "</tr>\n",
       "<tr>\n",
       "  <th>Covariance Type:</th>      <td>nonrobust</td>     <th>  LLR p-value:       </th> <td>1.746e-152</td>\n",
       "</tr>\n",
       "</table>\n",
       "<table class=\"simpletable\">\n",
       "<tr>\n",
       "                <td></td>                  <th>coef</th>     <th>std err</th>      <th>z</th>      <th>P>|z|</th>  <th>[0.025</th>    <th>0.975]</th>  \n",
       "</tr>\n",
       "<tr>\n",
       "  <th>Intercept</th>                    <td>   -4.2495</td> <td>    0.652</td> <td>   -6.518</td> <td> 0.000</td> <td>   -5.527</td> <td>   -2.972</td>\n",
       "</tr>\n",
       "<tr>\n",
       "  <th>MOBILE_NUMBER</th>                <td>    0.7649</td> <td>    0.176</td> <td>    4.335</td> <td> 0.000</td> <td>    0.419</td> <td>    1.111</td>\n",
       "</tr>\n",
       "<tr>\n",
       "  <th>CANCELLATIONS_BEFORE_NOON</th>    <td>    0.2533</td> <td>    0.043</td> <td>    5.826</td> <td> 0.000</td> <td>    0.168</td> <td>    0.339</td>\n",
       "</tr>\n",
       "<tr>\n",
       "  <th>CANCELLATIONS_AFTER_NOON</th>     <td>   -0.2679</td> <td>    0.133</td> <td>   -2.009</td> <td> 0.045</td> <td>   -0.529</td> <td>   -0.007</td>\n",
       "</tr>\n",
       "<tr>\n",
       "  <th>TASTES_AND_PREFERENCES</th>       <td>    0.4459</td> <td>    0.131</td> <td>    3.401</td> <td> 0.001</td> <td>    0.189</td> <td>    0.703</td>\n",
       "</tr>\n",
       "<tr>\n",
       "  <th>PC_LOGINS</th>                    <td>    0.2378</td> <td>    0.104</td> <td>    2.295</td> <td> 0.022</td> <td>    0.035</td> <td>    0.441</td>\n",
       "</tr>\n",
       "<tr>\n",
       "  <th>MOBILE_LOGINS</th>                <td>   -0.2646</td> <td>    0.114</td> <td>   -2.330</td> <td> 0.020</td> <td>   -0.487</td> <td>   -0.042</td>\n",
       "</tr>\n",
       "<tr>\n",
       "  <th>REFRIGERATED_LOCKER</th>          <td>    0.4721</td> <td>    0.202</td> <td>    2.332</td> <td> 0.020</td> <td>    0.075</td> <td>    0.869</td>\n",
       "</tr>\n",
       "<tr>\n",
       "  <th>FOLLOWED_RECOMMENDATIONS_PCT</th> <td>    0.0573</td> <td>    0.003</td> <td>   16.628</td> <td> 0.000</td> <td>    0.051</td> <td>    0.064</td>\n",
       "</tr>\n",
       "<tr>\n",
       "  <th>m_FAMILY_NAME</th>                <td>    0.9335</td> <td>    0.386</td> <td>    2.419</td> <td> 0.016</td> <td>    0.177</td> <td>    1.690</td>\n",
       "</tr>\n",
       "<tr>\n",
       "  <th>personal</th>                     <td>    1.2398</td> <td>    0.153</td> <td>    8.089</td> <td> 0.000</td> <td>    0.939</td> <td>    1.540</td>\n",
       "</tr>\n",
       "<tr>\n",
       "  <th>professional</th>                 <td>    1.8917</td> <td>    0.168</td> <td>   11.266</td> <td> 0.000</td> <td>    1.563</td> <td>    2.221</td>\n",
       "</tr>\n",
       "</table>"
      ],
      "text/plain": [
       "<class 'statsmodels.iolib.summary.Summary'>\n",
       "\"\"\"\n",
       "                           Logit Regression Results                           \n",
       "==============================================================================\n",
       "Dep. Variable:     CROSS_SELL_SUCCESS   No. Observations:                 1946\n",
       "Model:                          Logit   Df Residuals:                     1934\n",
       "Method:                           MLE   Df Model:                           11\n",
       "Date:                Sun, 15 Mar 2020   Pseudo R-squ.:                  0.3046\n",
       "Time:                        19:05:29   Log-Likelihood:                -849.47\n",
       "converged:                       True   LL-Null:                       -1221.6\n",
       "Covariance Type:            nonrobust   LLR p-value:                1.746e-152\n",
       "================================================================================================\n",
       "                                   coef    std err          z      P>|z|      [0.025      0.975]\n",
       "------------------------------------------------------------------------------------------------\n",
       "Intercept                       -4.2495      0.652     -6.518      0.000      -5.527      -2.972\n",
       "MOBILE_NUMBER                    0.7649      0.176      4.335      0.000       0.419       1.111\n",
       "CANCELLATIONS_BEFORE_NOON        0.2533      0.043      5.826      0.000       0.168       0.339\n",
       "CANCELLATIONS_AFTER_NOON        -0.2679      0.133     -2.009      0.045      -0.529      -0.007\n",
       "TASTES_AND_PREFERENCES           0.4459      0.131      3.401      0.001       0.189       0.703\n",
       "PC_LOGINS                        0.2378      0.104      2.295      0.022       0.035       0.441\n",
       "MOBILE_LOGINS                   -0.2646      0.114     -2.330      0.020      -0.487      -0.042\n",
       "REFRIGERATED_LOCKER              0.4721      0.202      2.332      0.020       0.075       0.869\n",
       "FOLLOWED_RECOMMENDATIONS_PCT     0.0573      0.003     16.628      0.000       0.051       0.064\n",
       "m_FAMILY_NAME                    0.9335      0.386      2.419      0.016       0.177       1.690\n",
       "personal                         1.2398      0.153      8.089      0.000       0.939       1.540\n",
       "professional                     1.8917      0.168     11.266      0.000       1.563       2.221\n",
       "================================================================================================\n",
       "\"\"\""
      ]
     },
     "execution_count": 29,
     "metadata": {},
     "output_type": "execute_result"
    }
   ],
   "source": [
    "# instantiating a logistic regression model object\n",
    "logistic_small = smf.logit(formula   = \"\"\"CROSS_SELL_SUCCESS ~\n",
    "                                          MOBILE_NUMBER +\n",
    "                                          CANCELLATIONS_BEFORE_NOON +\n",
    "                                          CANCELLATIONS_AFTER_NOON +\n",
    "                                          TASTES_AND_PREFERENCES +\n",
    "                                          PC_LOGINS +\n",
    "                                          MOBILE_LOGINS +\n",
    "                                          REFRIGERATED_LOCKER +\n",
    "                                          FOLLOWED_RECOMMENDATIONS_PCT +\n",
    "                                          m_FAMILY_NAME +\n",
    "                                          personal +\n",
    "                                          professional\n",
    "                                       \"\"\",\n",
    "                           data = original_df)\n",
    "\n",
    "\n",
    "\n",
    "# FITTING the model object\n",
    "results_logistic = logistic_small.fit()\n",
    "\n",
    "\n",
    "# checking the results SUMMARY\n",
    "results_logistic.summary()"
   ]
  },
  {
   "cell_type": "code",
   "execution_count": 30,
   "metadata": {},
   "outputs": [
    {
     "name": "stdout",
     "output_type": "stream",
     "text": [
      "Training ACCURACY: 0.7656\n",
      "Testing  ACCURACY: 0.7474\n",
      "AUC Score: 0.7125\n"
     ]
    }
   ],
   "source": [
    "### LOGISTIC REGRESSION\n",
    "\n",
    "# INSTANTIATING a logistic regression model\n",
    "logreg = sklearn.linear_model.LogisticRegression(solver   = 'lbfgs',\n",
    "                                                 C        = 1,        # regulation of model; can tune to make model less overfit\n",
    "                                                 max_iter = 1000,\n",
    "                                                 random_state = 222)\n",
    "\n",
    "\n",
    "# FITTING the training data\n",
    "logreg_fit = logreg.fit(X_train, y_train)\n",
    "\n",
    "\n",
    "# PREDICTING based on the testing set\n",
    "logreg_pred = logreg_fit.predict(X_test)\n",
    "\n",
    "\n",
    "# SCORING the results\n",
    "print('Training ACCURACY:', logreg_fit.score(X_train, y_train).round(4))\n",
    "print('Testing  ACCURACY:', logreg_fit.score(X_test, y_test).round(4))\n",
    "print('AUC Score:',         roc_auc_score(y_true  = y_test,\n",
    "                                          y_score = logreg_pred).round(4))\n",
    "\n"
   ]
  },
  {
   "cell_type": "markdown",
   "metadata": {},
   "source": [
    "<strong>Saving Logistic Regression Model Results</strong>"
   ]
  },
  {
   "cell_type": "code",
   "execution_count": 31,
   "metadata": {},
   "outputs": [],
   "source": [
    "# Saving scores to objects, then saving results\n",
    "\n",
    "# train accuracy\n",
    "logreg_train_acc  = logreg_fit.score(X_train, y_train).round(4)\n",
    "\n",
    "\n",
    "# test accuracy\n",
    "logreg_test_acc   = logreg_fit.score(X_test, y_test).round(4)\n",
    "\n",
    "\n",
    "# auc value\n",
    "logreg_auc = roc_auc_score(y_true  = y_test,\n",
    "                           y_score = logreg_pred).round(4)\n",
    "\n",
    "\n",
    "# saving the results\n",
    "model_performance.append(['Logistic Regression',\n",
    "                          logreg_train_acc,\n",
    "                          logreg_test_acc,\n",
    "                          logreg_auc])"
   ]
  },
  {
   "cell_type": "markdown",
   "metadata": {},
   "source": [
    "<h4>KNN Classification Model</h4><br>\n",
    "\n",
    "Since the explanatory variables were already scaled, distance has been standardized, so we can just run the KNN Classification model using the original_df_explanatory data frame.<br><br>\n",
    "\n",
    "First, the optimal number of neighbours for KNN will be determined using a previously-run user-defined function, optimal_neighbors. "
   ]
  },
  {
   "cell_type": "code",
   "execution_count": 32,
   "metadata": {},
   "outputs": [
    {
     "data": {
      "image/png": "[encoded data removed]",
      "text/plain": [
       "<Figure size 864x576 with 1 Axes>"
      ]
     },
     "metadata": {
      "needs_background": "light"
     },
     "output_type": "display_data"
    },
    {
     "name": "stdout",
     "output_type": "stream",
     "text": [
      "The optimal number of neighbors is: 9\n"
     ]
    }
   ],
   "source": [
    "# determining the optimal number of neighbors for KNN\n",
    "opt_neighbors = optimal_neighbors(X_data = original_df_explanatory, \n",
    "                                  y_data = original_df_target,\n",
    "                                  response_type = 'class')"
   ]
  },
  {
   "cell_type": "markdown",
   "metadata": {},
   "source": [
    "Using the function output's optimal number of neighbors, 9, the KNN classification model will now be run."
   ]
  },
  {
   "cell_type": "code",
   "execution_count": 33,
   "metadata": {},
   "outputs": [
    {
     "name": "stdout",
     "output_type": "stream",
     "text": [
      "Training ACCURACY: 0.8088\n",
      "Testing  ACCURACY: 0.7556\n",
      "AUC Score        : 0.7152\n"
     ]
    }
   ],
   "source": [
    "# INSTANTIATING a KNN classification model with optimal neighbors\n",
    "knn_opt = KNeighborsClassifier(n_neighbors = opt_neighbors)\n",
    "\n",
    "# FITTING the training data\n",
    "knn_fit = knn_opt.fit(X_train, y_train)\n",
    "\n",
    "\n",
    "# PREDICTING based on the testing set\n",
    "knn_pred = knn_fit.predict(X_test)\n",
    "\n",
    "\n",
    "# SCORING the results\n",
    "print('Training ACCURACY:', knn_opt.score(X_train, y_train).round(4))\n",
    "print('Testing  ACCURACY:', knn_opt.score(X_test, y_test).round(4))\n",
    "print('AUC Score        :', roc_auc_score(y_true  = y_test,\n",
    "                                          y_score = knn_pred).round(4))"
   ]
  },
  {
   "cell_type": "markdown",
   "metadata": {},
   "source": [
    "<strong>Saving KNN Classification Model Results</strong>"
   ]
  },
  {
   "cell_type": "code",
   "execution_count": 34,
   "metadata": {},
   "outputs": [],
   "source": [
    "# Saving KNN performance\n",
    "\n",
    "# train accuracy\n",
    "knn_train_acc = knn_fit.score(X_train, y_train).round(4)\n",
    "\n",
    "\n",
    "# test accuracy\n",
    "knn_test_acc  = knn_fit.score(X_test, y_test).round(4)\n",
    "\n",
    "\n",
    "# auc value\n",
    "knn_auc       = roc_auc_score(y_true  = y_test,\n",
    "                              y_score = knn_pred).round(4)\n",
    "\n",
    "\n",
    "# saving the results\n",
    "model_performance.append(['KNN Classification',\n",
    "                          knn_train_acc,\n",
    "                          knn_test_acc,\n",
    "                          knn_auc])\n"
   ]
  },
  {
   "cell_type": "markdown",
   "metadata": {},
   "source": [
    "<h4>Random Forest</h4><br>"
   ]
  },
  {
   "cell_type": "code",
   "execution_count": 35,
   "metadata": {},
   "outputs": [
    {
     "name": "stdout",
     "output_type": "stream",
     "text": [
      "Training Score: 0.923\n",
      "Testing Score: 0.758\n",
      "AUC Score        : 0.7336\n"
     ]
    },
    {
     "name": "stderr",
     "output_type": "stream",
     "text": [
      "//anaconda3/lib/python3.7/site-packages/sklearn/ensemble/forest.py:245: FutureWarning: The default value of n_estimators will change from 10 in version 0.20 to 100 in 0.22.\n",
      "  \"10 in version 0.20 to 100 in 0.22.\", FutureWarning)\n"
     ]
    }
   ],
   "source": [
    "# Instantiating model object\n",
    "rf_model = RandomForestClassifier()\n",
    "\n",
    "# Fitting the training data\n",
    "rf_model.fit(X_train, y_train)\n",
    "\n",
    "# Predicting on new data\n",
    "\n",
    "rf_model_pred = rf_model.predict(X_test)\n",
    "\n",
    "\n",
    "#Printing scores\n",
    "\n",
    "print('Training Score:', rf_model.score(X_train, y_train).round(3))\n",
    "print('Testing Score:',  rf_model.score(X_test, y_test).round(3))\n",
    "print('AUC Score        :', roc_auc_score(y_true  = y_test,\n",
    "                                          y_score = rf_model_pred).round(4))\n",
    "\n",
    "# saving scoring data for future use\n",
    "rf_train_score = rf_model.score(X_train, y_train).round(3)\n",
    "rf_test_score  = rf_model.score(X_test, y_test).round(3)\n"
   ]
  },
  {
   "cell_type": "markdown",
   "metadata": {},
   "source": [
    "<strong>Saving Random Forest Results</strong>"
   ]
  },
  {
   "cell_type": "code",
   "execution_count": 36,
   "metadata": {},
   "outputs": [],
   "source": [
    "#Saving results\n",
    "\n",
    "# train accuracy\n",
    "rf_train_acc  = rf_model.score(X_train, y_train).round(3)\n",
    "\n",
    "\n",
    "# test accuracy\n",
    "rf_test_acc   = rf_model.score(X_test, y_test).round(3)\n",
    "\n",
    "\n",
    "# auc value\n",
    "rf_auc = roc_auc_score(y_true  = y_test,\n",
    "                       y_score = rf_model_pred).round(4)\n",
    "\n",
    "\n",
    "# saving the results\n",
    "model_performance.append(['Random Forest',\n",
    "                          rf_train_acc,\n",
    "                          rf_test_acc,\n",
    "                          rf_auc])"
   ]
  },
  {
   "cell_type": "markdown",
   "metadata": {},
   "source": [
    "<h4>Gradient Boosting Classification Model</h4><br>\n",
    "\n",
    "Since this model uses penalty terms, which is based on distance, it needs standardized data. Again, since the explanatory variables were already scaled, distance has been standardized, so we can just run the Gradient Boosting Classification model using the original_df_explanatory data frame.\n",
    "<br><br>\n",
    "The Gradient Boosting Classification Model is similar to Random Forest, but instead of using randomness, it learns from the previous decision tree; where variance was high, it made this variable less critical in the next tree. Therefore, the score is expected to be better in this model than in the Random Forest model."
   ]
  },
  {
   "cell_type": "code",
   "execution_count": 37,
   "metadata": {},
   "outputs": [
    {
     "name": "stdout",
     "output_type": "stream",
     "text": [
      "Training Score: 0.832\n",
      "Testing Score: 0.805\n",
      "AUC Score: 0.787\n"
     ]
    }
   ],
   "source": [
    "# INSTANTIATING the model object without hyperparameters\n",
    "gbc_model = GradientBoostingClassifier(random_state = 222)\n",
    "\n",
    "\n",
    "# FITTING the training data\n",
    "gbc_model.fit(X_train, y_train)\n",
    "\n",
    "# PREDICTING on new data\n",
    "gbc_pred = gbc_model.predict(X_test)\n",
    "\n",
    "#Printing scores\n",
    "print('Training Score:', gbc_model.score(X_train, y_train).round(3))\n",
    "print('Testing Score:',  gbc_model.score(X_test, y_test).round(3))\n",
    "print('AUC Score:',      roc_auc_score(y_true  = y_test,\n",
    "                                       y_score = gbc_pred).round(4))\n",
    "# saving scoring data for future use\n",
    "gbc_train_score = gbc_model.score(X_train, y_train).round(3)\n",
    "gbc_test_score  = gbc_model.score(X_test, y_test).round(3)"
   ]
  },
  {
   "cell_type": "markdown",
   "metadata": {},
   "source": [
    "<strong>Saving Gradient Boosting Classification Results</strong>"
   ]
  },
  {
   "cell_type": "code",
   "execution_count": 38,
   "metadata": {},
   "outputs": [],
   "source": [
    "#Saving results\n",
    "\n",
    "# train accuracy\n",
    "gbc_train_acc  = gbc_model.score(X_train, y_train).round(3)\n",
    "\n",
    "\n",
    "# test accuracy\n",
    "gbc_test_acc   = gbc_model.score(X_test, y_test).round(3)\n",
    "\n",
    "\n",
    "# auc value\n",
    "gbc_auc = roc_auc_score(y_true  = y_test,\n",
    "                        y_score = gbc_pred).round(4)\n",
    "\n",
    "\n",
    "# saving the results\n",
    "model_performance.append(['Gradient Boosting Classification',\n",
    "                          gbc_train_acc,\n",
    "                          gbc_test_acc,\n",
    "                          gbc_auc])"
   ]
  },
  {
   "cell_type": "markdown",
   "metadata": {},
   "source": [
    "<h4>Gaussian Naive Bayes Model</h4><br>\n",
    "\n",
    "The <a href=\"https://scikit-learn.org/stable/modules/naive_bayes.html\"> Gaussian Naive Bayes (NB) model</a> is a predictive model that works on the assumption that features are independent, and that continuous variables follow a normal distribution.\n"
   ]
  },
  {
   "cell_type": "code",
   "execution_count": 39,
   "metadata": {},
   "outputs": [
    {
     "name": "stdout",
     "output_type": "stream",
     "text": [
      "Training Score: 0.768\n",
      "Testing Score: 0.807\n",
      "AUC Score: 0.8038\n"
     ]
    }
   ],
   "source": [
    "# INSTANTIATING the model object without hyperparameters\n",
    "gaus_model = GaussianNB()\n",
    "\n",
    "\n",
    "# FITTING the training data\n",
    "gaus_model.fit(X_train, y_train)\n",
    "\n",
    "# PREDICTING on new data\n",
    "gaus_pred = gaus_model.predict(X_test)\n",
    "\n",
    "#Printing scores\n",
    "print('Training Score:', gaus_model.score(X_train, y_train).round(3))\n",
    "print('Testing Score:',  gaus_model.score(X_test, y_test).round(3))\n",
    "print('AUC Score:',      roc_auc_score(y_true  = y_test,\n",
    "                                       y_score = gaus_pred).round(4))\n",
    "# saving scoring data for future use\n",
    "gaus_train_score = gaus_model.score(X_train, y_train).round(3)\n",
    "gaus_test_score  = gaus_model.score(X_test, y_test).round(3)\n"
   ]
  },
  {
   "cell_type": "markdown",
   "metadata": {},
   "source": [
    "<strong>Saving GaussianNB Results</strong>"
   ]
  },
  {
   "cell_type": "code",
   "execution_count": 40,
   "metadata": {},
   "outputs": [],
   "source": [
    "#Saving results\n",
    "\n",
    "# train accuracy\n",
    "gaus_train_acc  = gaus_model.score(X_train, y_train).round(3)\n",
    "\n",
    "\n",
    "# test accuracy\n",
    "gaus_test_acc   = gaus_model.score(X_test, y_test).round(3)\n",
    "\n",
    "\n",
    "# auc value\n",
    "gaus_auc = roc_auc_score(y_true  = y_test,\n",
    "                        y_score = gaus_pred).round(4)\n",
    "\n",
    "\n",
    "# saving the results\n",
    "model_performance.append(['Gaussian Naive Bayes Model',\n",
    "                          gaus_train_acc,\n",
    "                          gaus_test_acc,\n",
    "                          gaus_auc])"
   ]
  },
  {
   "cell_type": "markdown",
   "metadata": {},
   "source": [
    "<h4>Comparing Performance of All Models</h4><br>\n",
    "The training, testing, and AUC scores of all the models were stored in <strong>model_performance</strong>. Here, they will be compared to see which model yields the best AUC score, and hyperparameter tuning will only be done on the best-performing model for efficiency."
   ]
  },
  {
   "cell_type": "code",
   "execution_count": 41,
   "metadata": {},
   "outputs": [
    {
     "name": "stdout",
     "output_type": "stream",
     "text": [
      "['Model', 'Training Accuracy', 'Testing Accuracy', 'AUC Value']\n",
      "['Pruned Tree', 0.8095, 0.7864, 0.77]\n",
      "['Logistic Regression', 0.7656, 0.7474, 0.7125]\n",
      "['KNN Classification', 0.8088, 0.7556, 0.7152]\n",
      "['Random Forest', 0.923, 0.758, 0.7336]\n",
      "['Gradient Boosting Classification', 0.832, 0.805, 0.787]\n",
      "['Gaussian Naive Bayes Model', 0.768, 0.807, 0.8038]\n"
     ]
    }
   ],
   "source": [
    "for model in model_performance:\n",
    "    print(model)"
   ]
  },
  {
   "cell_type": "markdown",
   "metadata": {},
   "source": [
    "<strong>Output:</strong><br><br>\n",
    "Upon comparing the performance of all the models, the Gaussian NB model yields the best AUC score of 0.8038, where the training and testing scores are also within 0.05 of one another (indicating that it is not overfit). Therefore, it was chosen as the final model."
   ]
  },
  {
   "cell_type": "markdown",
   "metadata": {},
   "source": [
    "<h3>Hyperparameter Tuning with GridSearchCV</h3>\n",
    "\n",
    "Hyperparameter tuning will now be performed to find the optimal arguments, or parameters, for a model. This will be done with GridSearchCV, which exhaustively searches over combinations of specified parameter values. Since GridSearchCV's method is very time-consuming, hyperparameter tuning will only be performed on the best model, which is GaussianNB in this case.<br><br>\n",
    "For the GaussianNB hyperparameter code template, a <a href=\"https://www.featureranking.com/tutorials/machine-learning-tutorials/sk-part-3-cross-validation-and-hyperparameter-tuning/\"><i>Feature Ranking</i> tutorial</a> was used. For cross-validation (cv), the <strong>RepeatedStratifiedKFold</strong> function was used, which splits the dataset into K subsets ('folds'). Using the K-1 folds, the model is trained and then it is tested against the remaining fold; this is repeated K times, with a different fold being used for testing each time. To ensure the proportion of the training and test sets are equal to the proportion in the full dataset in each cross-validation, stratification is used."
   ]
  },
  {
   "cell_type": "code",
   "execution_count": 42,
   "metadata": {
    "code_folding": [
     0
    ]
   },
   "outputs": [],
   "source": [
    "#### Gaussian NB model was chosen instead of Gradient Boosting #####\n",
    "\n",
    "####################################################################\n",
    "\n",
    "#### Hyperparameter tuning for Gradient Boosting Classification\n",
    "\n",
    "# declaring a hyperparameter space\n",
    "#learn_space     = pd.np.arange(0.1, 1.6, 0.3)\n",
    "#estimator_space = pd.np.arange(50, 250, 50)\n",
    "#depth_space     = pd.np.arange(1, 10)\n",
    "\n",
    "\n",
    "# creating a hyperparameter grid\n",
    "#param_grid = {'learning_rate' : learn_space,\n",
    "              #'max_depth'     : depth_space,\n",
    "              #'n_estimators'  : estimator_space}\n",
    "\n",
    "\n",
    "# INSTANTIATING the model object without hyperparameters\n",
    "#full_gbm_grid = GradientBoostingClassifier(random_state = 222)\n",
    "\n",
    "\n",
    "# GridSearchCV object\n",
    "#full_gbm_cv = GridSearchCV(estimator  = full_gbm_grid,\n",
    "                           #param_grid = param_grid,\n",
    "                           #cv         = 3,\n",
    "                           #scoring    = make_scorer(roc_auc_score,\n",
    "                                        #needs_threshold = False))\n",
    "\n",
    "\n",
    "# FITTING to the FULL DATASET (due to cross-validation)\n",
    "#full_gbm_cv.fit(original_df_explanatory, original_df_target)\n",
    "\n",
    "\n",
    "# PREDICT step is not needed\n",
    "\n",
    "\n",
    "# printing the optimal parameters and best score\n",
    "#print(\"Tuned Parameters  :\", full_gbm_cv.best_params_)\n",
    "#print(\"Tuned Training AUC:\", full_gbm_cv.best_score_.round(4))\n",
    "\n",
    "\n",
    "##########\n",
    "# RESULTS\n",
    "##########\n",
    "\n",
    "#Tuned Parameters : {'learning_rate': 0.1, 'max_depth': 2, 'n_estimators': 50} Tuned Training AUC: 0.6396"
   ]
  },
  {
   "cell_type": "code",
   "execution_count": 43,
   "metadata": {
    "code_folding": [
     0
    ]
   },
   "outputs": [],
   "source": [
    "#### Gaussian NB model was chosen instead of Gradient Boosting #####\n",
    "\n",
    "####################################################################\n",
    "\n",
    "# INSTANTIATING the model object with optimal hyperparameters\n",
    "#gbc_model_tuned = GradientBoostingClassifier(learning_rate = 0.1,\n",
    "                                             #max_depth     = 2,\n",
    "                                             #n_estimators  = 50,\n",
    "                                             #random_state  = 222)\n",
    "\n",
    "\n",
    "# FITTING the training data\n",
    "#gbc_model_tuned.fit(X_train, y_train)\n",
    "\n",
    "# PREDICTING on new data\n",
    "#gbc_pred_tuned = gbc_model_tuned.predict(X_test)\n",
    "\n",
    "#Printing scores\n",
    "#print('Training Score:', gbc_model_tuned.score(X_train, y_train).round(3))\n",
    "#print('Testing Score:',  gbc_model_tuned.score(X_test, y_test).round(3))\n",
    "#print('AUC Score        :', roc_auc_score(y_true  = y_test,\n",
    "                                          #y_score = gbc_pred_tuned).round(4))\n",
    "# saving scoring data for future use\n",
    "#gbc_tuned_train_score = gbc_model_tuned.score(X_train, y_train).round(3)\n",
    "#gbc_tuned_test_score  = gbc_model_tuned.score(X_test, y_test).round(3)"
   ]
  },
  {
   "cell_type": "code",
   "execution_count": 44,
   "metadata": {
    "code_folding": []
   },
   "outputs": [],
   "source": [
    "#### Hyperparameter tuning for Gaussian NB\n",
    "\n",
    "#from sklearn.preprocessing   import PowerTransformer\n",
    "#from sklearn.model_selection import RepeatedKFold\n",
    "#from sklearn.model_selection import RepeatedStratifiedKFold\n",
    "\n",
    "#np.random.seed(222)\n",
    "\n",
    "#creating a hyperparameter grid\n",
    "#param_grid = {'var_smoothing': np.logspace(0,-9, num = 100)}\n",
    "\n",
    "\n",
    "#INSTANTIATING the model object without hyperparameters\n",
    "#gaus_model = GaussianNB()\n",
    "\n",
    "\n",
    "# defining method for cross-validation\n",
    "#cv_method = RepeatedStratifiedKFold(n_splits     = 5, \n",
    "                                    #n_repeats    = 3, \n",
    "                                    #random_state = 222)\n",
    "\n",
    "# GridSearchCV object\n",
    "#gaus_cv = GridSearchCV(estimator  = gaus_model, \n",
    "                       #param_grid = param_grid, \n",
    "                       #cv         = cv_method,\n",
    "                       #verbose    = 1, \n",
    "                       #scoring    = make_scorer(roc_auc_score,\n",
    "                                    #needs_threshold = False))\n",
    "\n",
    "# Transforming data\n",
    "#original_df_transformed = PowerTransformer().fit_transform(original_df_explanatory)\n",
    "\n",
    "\n",
    "# FITTING to the FULL DATASET (due to cross-validation)\n",
    "#gaus_cv.fit(original_df_explanatory, original_df_target);\n",
    "\n",
    "\n",
    "# PREDICT step is not needed\n",
    "\n",
    "\n",
    "# printing the optimal parameters and best score\n",
    "#print(\"Tuned Parameters  :\", gaus_cv.best_params_)\n",
    "#print(\"Tuned Training AUC:\", gaus_cv.best_score_.round(4))"
   ]
  },
  {
   "cell_type": "markdown",
   "metadata": {},
   "source": [
    "Saving results of hyperparameter tuning:\n",
    "\n",
    "Tuned Parameters  : {'var_smoothing': 0.003511191734215131}\n",
    "Tuned Training AUC: 0.7636"
   ]
  },
  {
   "cell_type": "markdown",
   "metadata": {},
   "source": [
    "<h3>Final Model: Gaussian NB</h3>\n",
    "\n",
    "The Gaussian NB model will now be run again with the optimal hyperparameters."
   ]
  },
  {
   "cell_type": "code",
   "execution_count": 45,
   "metadata": {},
   "outputs": [
    {
     "name": "stdout",
     "output_type": "stream",
     "text": [
      "Training Score: 0.768\n",
      "Testing Score: 0.805\n",
      "AUC Score: 0.8023\n"
     ]
    }
   ],
   "source": [
    "# INSTANTIATING the model object with optimal hyperparameters\n",
    "gaus_model_tuned = GaussianNB(var_smoothing = 0.003511191734215131)\n",
    "\n",
    "\n",
    "# FITTING the training data\n",
    "gaus_model_tuned.fit(X_train, y_train)\n",
    "\n",
    "\n",
    "# PREDICTING on new data\n",
    "gaus_pred_tuned = gaus_model_tuned.predict(X_test)\n",
    "\n",
    "#Printing scores\n",
    "print('Training Score:', gaus_model_tuned.score(X_train, y_train).round(3))\n",
    "print('Testing Score:',  gaus_model_tuned.score(X_test, y_test).round(3))\n",
    "print('AUC Score:',      roc_auc_score(y_true  = y_test,\n",
    "                                       y_score = gaus_pred_tuned).round(4))\n",
    "# saving scoring data for future use\n",
    "gaus_train_score_tuned = gaus_model_tuned.score(X_train, y_train).round(3)\n",
    "gaus_test_score_tuned  = gaus_model_tuned.score(X_test, y_test).round(3)"
   ]
  },
  {
   "cell_type": "markdown",
   "metadata": {},
   "source": [
    "<strong>Saving Tuned GaussianNB Results</strong>"
   ]
  },
  {
   "cell_type": "code",
   "execution_count": 46,
   "metadata": {},
   "outputs": [],
   "source": [
    "#Saving results\n",
    "\n",
    "# train accuracy\n",
    "gaus_train_acc_tuned  = gaus_model_tuned.score(X_train, y_train).round(3)\n",
    "\n",
    "\n",
    "# test accuracy\n",
    "gaus_test_acc_tuned   = gaus_model_tuned.score(X_test, y_test).round(3)\n",
    "\n",
    "\n",
    "# auc value\n",
    "gaus_auc_tuned = roc_auc_score(y_true  = y_test,\n",
    "                               y_score = gaus_pred_tuned).round(4)\n",
    "\n",
    "\n",
    "# saving the results\n",
    "model_performance.append(['TUNED Gaussian Naive Bayes Model',\n",
    "                          gaus_train_acc_tuned,\n",
    "                          gaus_test_acc_tuned,\n",
    "                          gaus_auc_tuned])"
   ]
  },
  {
   "cell_type": "markdown",
   "metadata": {},
   "source": [
    "<strong>Final Model Comparison</strong>"
   ]
  },
  {
   "cell_type": "code",
   "execution_count": 47,
   "metadata": {},
   "outputs": [
    {
     "name": "stdout",
     "output_type": "stream",
     "text": [
      "['Model', 'Training Accuracy', 'Testing Accuracy', 'AUC Value']\n",
      "['Pruned Tree', 0.8095, 0.7864, 0.77]\n",
      "['Logistic Regression', 0.7656, 0.7474, 0.7125]\n",
      "['KNN Classification', 0.8088, 0.7556, 0.7152]\n",
      "['Random Forest', 0.923, 0.758, 0.7336]\n",
      "['Gradient Boosting Classification', 0.832, 0.805, 0.787]\n",
      "['Gaussian Naive Bayes Model', 0.768, 0.807, 0.8038]\n",
      "['TUNED Gaussian Naive Bayes Model', 0.768, 0.805, 0.8023]\n"
     ]
    }
   ],
   "source": [
    "for model in model_performance:\n",
    "    print(model)"
   ]
  },
  {
   "cell_type": "markdown",
   "metadata": {},
   "source": [
    "From the final comparison, it appears as though hyperparameter tuning didn't really make a difference in the score of the GaussianNB model. In fact, it looks like the scores ever-so-slightly decreased."
   ]
  },
  {
   "cell_type": "markdown",
   "metadata": {},
   "source": [
    "<h3>Confusion Matrix</h3>\n",
    "<br>\n",
    "Here, a confusion matrix will be shown to measure the final model performance and the quality of predictions based on the amount of its true-negatives (it correctly predicted negative), false-negatives (it incorrectly predicted negative), false-positives (it incorrectly predicted positive), and true-positives (it correctly predicted positive).<br><br>\n",
    "\n",
    "The following confusion matrix can be read as follows:<br><br>\n",
    "\n",
    "~~~\n",
    "                   |\n",
    "  True Negatives   |  False Positives\n",
    "  (correct)        |  (incorrect)\n",
    "                   |\n",
    "-------------------|------------------\n",
    "                   |\n",
    "  False Negatives  |  True Positives\n",
    "  (incorrect)      |  (correct)\n",
    "                   |\n",
    "  \n",
    "~~~\n",
    "\n",
    "<br><br>\n",
    "So, in terms of this model:<br><br>\n",
    "\n",
    "~~~\n",
    "\n",
    "                                                        |\n",
    "  PREDICTED: WILL NOT SUBSCRIBE                         |    PREDICTED: WILL SUBSCRIBE \n",
    "           (CROSS_SELL_SUCCESS = 0)                     |              (CROSS_SELL_SUCCESS = 1)\n",
    "                                                        |\n",
    "  ACTUAL:    DID NOT SUBSCRIBE                          |    ACTUAL:    DID NOT SUBSCRIBE   \n",
    "           (CROSS_SELL_SUCCESS = 0)                     |              (CROSS_SELL_SUCCESS = 0)\n",
    "                                                        |\n",
    "--------------------------------------------------------|------------------------------------------------------\n",
    "                                                        |\n",
    "  PREDICTED: WILL NOT SUBSCRIBE                         |    PREDICTED: WILL SUBSCRIBE\n",
    "           (CROSS_SELL_SUCCESS = 0)                     |              (CROSS_SELL_SUCCESS = 1)\n",
    "                                                        |             \n",
    "  ACTUAL:    SUBSCRIBED                                 |    ACTUAL:    SUBSCRIBED \n",
    "           (CROSS_SELL_SUCCESS = 1)                     |              (CROSS_SELL_SUCCESS = 1)\n",
    "                                                        |\n",
    "\n",
    "~~~"
   ]
  },
  {
   "cell_type": "code",
   "execution_count": 48,
   "metadata": {},
   "outputs": [
    {
     "name": "stdout",
     "output_type": "stream",
     "text": [
      "[[124  32]\n",
      " [ 62 269]]\n"
     ]
    }
   ],
   "source": [
    "print(confusion_matrix(y_true = y_test,\n",
    "                       y_pred = gaus_pred))"
   ]
  },
  {
   "cell_type": "markdown",
   "metadata": {},
   "source": [
    "<strong>Visualized Confusion Matrix</strong>"
   ]
  },
  {
   "cell_type": "code",
   "execution_count": 49,
   "metadata": {},
   "outputs": [
    {
     "data": {
      "image/png": "[encoded data removed]",
      "text/plain": [
       "<Figure size 432x288 with 2 Axes>"
      ]
     },
     "metadata": {
      "needs_background": "light"
     },
     "output_type": "display_data"
    }
   ],
   "source": [
    "visual_cm(true_y = y_test,\n",
    "          pred_y = gaus_pred,\n",
    "          labels = ['Not subscribed', 'Subscribed'])"
   ]
  },
  {
   "cell_type": "markdown",
   "metadata": {},
   "source": [
    "<strong>Output:</strong><br>\n",
    "According to the confusion matrix, most of the model's predictions fall into the true-positives and true-negatives quadrants, signifying that it is making correct predictions and performing well. In other words, the model correctly predicted that 269 customers will subscribe to <i>Halfway There</i> (the cross-selling promotion was successful), and correctly predicted that 124 customers would not subscribe. <br><br>\n",
    "For the incorrect predictions, which are the top right and bottom left quadrants, the model predicted that 62 people would not subscribe, but in fact they did, and it predicted that 32 people would subscribe, but they did not."
   ]
  },
  {
   "cell_type": "code",
   "execution_count": 59,
   "metadata": {},
   "outputs": [],
   "source": [
    "original_df.to_excel(\"EMAILS.xlsx\")"
   ]
  },
  {
   "cell_type": "code",
   "execution_count": null,
   "metadata": {},
   "outputs": [],
   "source": []
  }
 ],
 "metadata": {
  "kernelspec": {
   "display_name": "Python 3",
   "language": "python",
   "name": "python3"
  },
  "language_info": {
   "codemirror_mode": {
    "name": "ipython",
    "version": 3
   },
   "file_extension": ".py",
   "mimetype": "text/x-python",
   "name": "python",
   "nbconvert_exporter": "python",
   "pygments_lexer": "ipython3",
   "version": "3.7.3"
  },
  "toc": {
   "base_numbering": 1,
   "nav_menu": {},
   "number_sections": true,
   "sideBar": true,
   "skip_h1_title": false,
   "title_cell": "Table of Contents",
   "title_sidebar": "Contents",
   "toc_cell": false,
   "toc_position": {},
   "toc_section_display": true,
   "toc_window_display": false
  },
  "varInspector": {
   "cols": {
    "lenName": 16,
    "lenType": 16,
    "lenVar": 40
   },
   "kernels_config": {
    "python": {
     "delete_cmd_postfix": "",
     "delete_cmd_prefix": "del ",
     "library": "var_list.py",
     "varRefreshCmd": "print(var_dic_list())"
    },
    "r": {
     "delete_cmd_postfix": ") ",
     "delete_cmd_prefix": "rm(",
     "library": "var_list.r",
     "varRefreshCmd": "cat(var_dic_list()) "
    }
   },
   "types_to_exclude": [
    "module",
    "function",
    "builtin_function_or_method",
    "instance",
    "_Feature"
   ],
   "window_display": false
  }
 },
 "nbformat": 4,
 "nbformat_minor": 2
}
